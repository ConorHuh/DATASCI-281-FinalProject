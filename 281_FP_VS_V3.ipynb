{
 "cells": [
  {
   "cell_type": "code",
   "execution_count": 74,
   "id": "0c39671f",
   "metadata": {},
   "outputs": [],
   "source": [
    "import numpy as np\n",
    "import matplotlib.pyplot as plt\n",
    "from PIL import Image\n",
    "import urllib\n",
    "import seaborn as sns\n",
    "\n",
    "from skimage.exposure import rescale_intensity\n",
    "from skimage.transform import rescale, rotate\n",
    "from skimage.color import rgb2gray\n",
    "from skimage.feature import hog\n",
    "from sklearn.metrics import mean_squared_error\n",
    "from scipy.stats import wasserstein_distance\n",
    "from scipy.spatial.distance import cosine\n",
    "from skimage import exposure\n",
    "\n",
    "import pandas as pd\n",
    "import os\n",
    "import matplotlib.pyplot as plt\n",
    "from PIL import Image"
   ]
  },
  {
   "cell_type": "code",
   "execution_count": 75,
   "id": "ce35b7dc",
   "metadata": {},
   "outputs": [],
   "source": [
    "def whoAmI(img):\n",
    "    \"\"\"\n",
    "    Prints dtype, min, max, mean, height, and width of an image.\n",
    "    \"\"\"\n",
    "    print(f\"dtype     : {img.dtype}\")\n",
    "    print(f\"min       : {np.min(img):.4f}\")\n",
    "    print(f\"max       : {np.max(img):.4f}\")\n",
    "    print(f\"mean      : {np.mean(img):.4f}\")\n",
    "    print(f\"shape     : {img.shape}\")\n",
    "    if img.ndim == 2:\n",
    "        print(f\"height    : {img.shape[0]}\")\n",
    "        print(f\"width     : {img.shape[1]}\")\n",
    "    elif img.ndim == 3:\n",
    "        print(f\"height    : {img.shape[0]}\")\n",
    "        print(f\"width     : {img.shape[1]}\")\n",
    "        print(f\"channels  : {img.shape[2]}\")\n"
   ]
  },
  {
   "cell_type": "code",
   "execution_count": 76,
   "id": "ba683116",
   "metadata": {},
   "outputs": [
    {
     "name": "stdout",
     "output_type": "stream",
     "text": [
      "     lesion_id      image_id   dx dx_type   age   sex localization\n",
      "0  HAM_0000118  ISIC_0027419  bkl   histo  80.0  male        scalp\n",
      "1  HAM_0000118  ISIC_0025030  bkl   histo  80.0  male        scalp\n",
      "2  HAM_0002730  ISIC_0026769  bkl   histo  80.0  male        scalp\n",
      "3  HAM_0002730  ISIC_0025661  bkl   histo  80.0  male        scalp\n",
      "4  HAM_0001466  ISIC_0031633  bkl   histo  75.0  male          ear\n"
     ]
    }
   ],
   "source": [
    "# Set path\n",
    "data_dir = '/Users/vishalsaxena/Documents/BERKMIDS2024ROOT/09MIDSCourses/MIDS281CompVision/281_Final_Project/281_FP_Factory/dataset/skin-cancer-mnist-ham10000/'\n",
    "csv_file = os.path.join(data_dir, 'HAM10000_metadata.csv')\n",
    "\n",
    "# Load metadata\n",
    "df = pd.read_csv(csv_file)\n",
    "print(df.head())"
   ]
  },
  {
   "cell_type": "code",
   "execution_count": 4,
   "id": "0e7edbce",
   "metadata": {},
   "outputs": [
    {
     "data": {
      "text/plain": [
       "Index(['lesion_id', 'image_id', 'dx', 'dx_type', 'age', 'sex', 'localization'], dtype='object')"
      ]
     },
     "execution_count": 4,
     "metadata": {},
     "output_type": "execute_result"
    }
   ],
   "source": [
    "df.columns"
   ]
  },
  {
   "cell_type": "code",
   "execution_count": 5,
   "id": "6c5fd79b",
   "metadata": {},
   "outputs": [
    {
     "data": {
      "text/plain": [
       "10015"
      ]
     },
     "execution_count": 5,
     "metadata": {},
     "output_type": "execute_result"
    }
   ],
   "source": [
    "len(df)"
   ]
  },
  {
   "cell_type": "code",
   "execution_count": 6,
   "id": "5b8ebb13",
   "metadata": {},
   "outputs": [],
   "source": [
    "#map labels\n",
    "label_mapping = {\n",
    "    'nv': 'Melanocytic nevi',\n",
    "    'mel': 'Melanoma',\n",
    "    'bkl': 'Benign keratosis-like lesions',\n",
    "    'bcc': 'Basal cell carcinoma',\n",
    "    'akiec': 'Actinic keratoses',\n",
    "    'vasc': 'Vascular lesions',\n",
    "    'df': 'Dermatofibroma'\n",
    "}\n",
    "df['dx_full'] = df['dx'].map(label_mapping)"
   ]
  },
  {
   "cell_type": "code",
   "execution_count": 7,
   "id": "fd05be88",
   "metadata": {},
   "outputs": [],
   "source": [
    "metadata_ = df.to_numpy()"
   ]
  },
  {
   "cell_type": "code",
   "execution_count": 8,
   "id": "3e482afc",
   "metadata": {},
   "outputs": [
    {
     "data": {
      "text/plain": [
       "(10015, 8)"
      ]
     },
     "execution_count": 8,
     "metadata": {},
     "output_type": "execute_result"
    }
   ],
   "source": [
    "metadata_.shape"
   ]
  },
  {
   "cell_type": "code",
   "execution_count": 9,
   "id": "2c67d98a",
   "metadata": {},
   "outputs": [
    {
     "data": {
      "text/plain": [
       "Index(['lesion_id', 'image_id', 'dx', 'dx_type', 'age', 'sex', 'localization',\n",
       "       'dx_full'],\n",
       "      dtype='object')"
      ]
     },
     "execution_count": 9,
     "metadata": {},
     "output_type": "execute_result"
    }
   ],
   "source": [
    "df.columns"
   ]
  },
  {
   "cell_type": "code",
   "execution_count": 10,
   "id": "bcc95dc2",
   "metadata": {},
   "outputs": [
    {
     "data": {
      "text/plain": [
       "array(['HAM_0000118', 'ISIC_0027419', 'bkl', 'histo', 80.0, 'male',\n",
       "       'scalp', 'Benign keratosis-like lesions'], dtype=object)"
      ]
     },
     "execution_count": 10,
     "metadata": {},
     "output_type": "execute_result"
    }
   ],
   "source": [
    "metadata_[0,:]"
   ]
  },
  {
   "cell_type": "code",
   "execution_count": 11,
   "id": "79e5800b",
   "metadata": {},
   "outputs": [
    {
     "data": {
      "text/plain": [
       "array(['HAM_0000118', 'ISIC_0027419', 'bkl', 'histo', 80.0, 'male',\n",
       "       'scalp', 'Benign keratosis-like lesions'], dtype=object)"
      ]
     },
     "execution_count": 11,
     "metadata": {},
     "output_type": "execute_result"
    }
   ],
   "source": [
    "metadata_[0,:]"
   ]
  },
  {
   "cell_type": "code",
   "execution_count": 12,
   "id": "cfb745a5",
   "metadata": {},
   "outputs": [],
   "source": [
    "labels = np.unique(metadata_[:,7])"
   ]
  },
  {
   "cell_type": "code",
   "execution_count": 13,
   "id": "d6d020a7",
   "metadata": {},
   "outputs": [
    {
     "data": {
      "text/plain": [
       "array(['Actinic keratoses', 'Basal cell carcinoma',\n",
       "       'Benign keratosis-like lesions', 'Dermatofibroma',\n",
       "       'Melanocytic nevi', 'Melanoma', 'Vascular lesions'], dtype=object)"
      ]
     },
     "execution_count": 13,
     "metadata": {},
     "output_type": "execute_result"
    }
   ],
   "source": [
    "labels"
   ]
  },
  {
   "cell_type": "code",
   "execution_count": 83,
   "id": "7721ba1a",
   "metadata": {},
   "outputs": [],
   "source": [
    "def plot_label_distribution(df, label_col):\n",
    "    labels = df[label_col].values\n",
    "    unique_labels, counts = np.unique(labels, return_counts=True)\n",
    "    colors = plt.cm.tab10(np.linspace(0, 1, len(unique_labels)))\n",
    "    plt.figure(figsize=(10, 6))\n",
    "    bars = plt.bar(unique_labels, counts, color=colors)\n",
    "    for bar, count in zip(bars, counts):\n",
    "        plt.text(bar.get_x() + bar.get_width() / 2, bar.get_height() + 5,\n",
    "                 str(count), ha='center', va='bottom', fontsize=10)\n",
    "    plt.xlabel('Label')\n",
    "    plt.ylabel('Count')\n",
    "    plt.title('Class Label Distribution')\n",
    "    plt.xticks(rotation=45)\n",
    "    plt.grid(axis='y', linestyle='--', alpha=0.7)\n",
    "    plt.tight_layout()\n",
    "    plt.show()\n"
   ]
  },
  {
   "cell_type": "code",
   "execution_count": 84,
   "id": "e2029975",
   "metadata": {},
   "outputs": [
    {
     "data": {
      "image/png": "[encoded data removed]",
      "text/plain": [
       "<Figure size 1000x600 with 1 Axes>"
      ]
     },
     "metadata": {},
     "output_type": "display_data"
    }
   ],
   "source": [
    "plot_label_distribution(df,'dx')"
   ]
  },
  {
   "cell_type": "code",
   "execution_count": null,
   "id": "fa32893c",
   "metadata": {},
   "outputs": [
    {
     "name": "stdout",
     "output_type": "stream",
     "text": [
      "dx\n",
      "nv       6705\n",
      "mel      1113\n",
      "bkl      1099\n",
      "bcc       514\n",
      "akiec     327\n",
      "vasc      142\n",
      "df        115\n",
      "Name: count, dtype: int64\n"
     ]
    }
   ],
   "source": [
    "print(df['dx'].value_counts())"
   ]
  },
  {
   "cell_type": "code",
   "execution_count": null,
   "id": "1ae81c48",
   "metadata": {},
   "outputs": [
    {
     "data": {
      "text/plain": [
       "0.6694957563654518"
      ]
     },
     "execution_count": 12,
     "metadata": {},
     "output_type": "execute_result"
    }
   ],
   "source": [
    "6705/len(labels)"
   ]
  },
  {
   "cell_type": "markdown",
   "id": "b9f738a9",
   "metadata": {},
   "source": [
    "--------------------------------------\n",
    "    PRODUCTION CODE - PHASE 1\n",
    "\n",
    "\n",
    "    Address class imbalance\n",
    "    Baseline data set to alleviate class imbalance.\n",
    "\tGuidelines: \n",
    "\tAll classes need to be retained.\n",
    "\n",
    "\tOutput, baseline data shape: N Images. Resulting class distribution should be essentially flat.\n",
    "\n",
    "\tApproach: upsample minority classes, downsample majority class.\n",
    "\n",
    "    RESEARCH:\n",
    "    SMOTE: Not suitable for Raw image data because interpolating pixel values can produce unrealistic images.\n",
    "    Most other approaches require algorithm use that in turn requires fine tuning, and compute power.\n",
    "    Simplest approach: undersample, oversample\n",
    "    Care: in downsampling majority class, use stratification by sex, to retain subminority representation\n",
    "    Jitter each class count to avoid having an equal sample count.\n",
    "\n",
    "---------------------------------------"
   ]
  },
  {
   "cell_type": "code",
   "execution_count": 17,
   "id": "a98565f4",
   "metadata": {},
   "outputs": [
    {
     "name": "stdout",
     "output_type": "stream",
     "text": [
      "dx\n",
      "nv       6705\n",
      "mel      1113\n",
      "bkl      1099\n",
      "bcc       514\n",
      "akiec     327\n",
      "vasc      142\n",
      "df        115\n",
      "Name: count, dtype: int64\n"
     ]
    }
   ],
   "source": [
    "print(df['dx'].value_counts())"
   ]
  },
  {
   "cell_type": "code",
   "execution_count": null,
   "id": "12894320",
   "metadata": {},
   "outputs": [],
   "source": [
    "# We will use 110 percent of second highest class sample count as threshold, and undersample, oversample each class to meet this threshold\n",
    "# using some noise\n",
    "sample_threshold = 1.1 * np.sum(df['dx'] == 'mel')\n",
    "class_sample_thresholds = {}\n",
    "noise = 0.05\n",
    "for item in df['dx'].unique():\n",
    "    # Add some jittered noise to class sample counts\n",
    "    jitter = int(noise * sample_threshold * np.random.uniform(-1, 1))\n",
    "    target_count = int(np.floor(sample_threshold + jitter))\n",
    "    class_sample_thresholds[item] = target_count"
   ]
  },
  {
   "cell_type": "code",
   "execution_count": 31,
   "id": "43054301",
   "metadata": {},
   "outputs": [
    {
     "data": {
      "text/plain": [
       "{'bkl': 1224,\n",
       " 'nv': 1208,\n",
       " 'df': 1279,\n",
       " 'mel': 1283,\n",
       " 'vasc': 1164,\n",
       " 'bcc': 1241,\n",
       " 'akiec': 1260}"
      ]
     },
     "execution_count": 31,
     "metadata": {},
     "output_type": "execute_result"
    }
   ],
   "source": [
    "class_sample_thresholds"
   ]
  },
  {
   "cell_type": "code",
   "execution_count": 32,
   "id": "07d010b0",
   "metadata": {},
   "outputs": [
    {
     "name": "stdout",
     "output_type": "stream",
     "text": [
      "dx\n",
      "nv       6705\n",
      "mel      1113\n",
      "bkl      1099\n",
      "bcc       514\n",
      "akiec     327\n",
      "vasc      142\n",
      "df        115\n",
      "Name: count, dtype: int64\n"
     ]
    }
   ],
   "source": [
    "print(df['dx'].value_counts())"
   ]
  },
  {
   "cell_type": "markdown",
   "id": "7fc64766",
   "metadata": {},
   "source": [
    "    All classes except nv need to be oversampled. nv needs to be downsampled."
   ]
  },
  {
   "cell_type": "code",
   "execution_count": 35,
   "id": "29fa2d42",
   "metadata": {},
   "outputs": [],
   "source": [
    "RANDOM_SEED = 42\n",
    "\n",
    "def get_undersampled_image_ids(df, target_class, min_count, random_seed=RANDOM_SEED,\n",
    "                                label_col='dx', id_col='image_id'):\n",
    "    \"\"\"\n",
    "    Randomly undersample a specific class to min_count and return its image IDs.\n",
    "\n",
    "    Parameters:\n",
    "        df (pd.DataFrame): The full metadata dataframe.\n",
    "        target_class (str): Class label to undersample (e.g., 'nv').\n",
    "        min_count (int): Number of samples to retain from that class.\n",
    "        random_seed (int): Seed for reproducibility.\n",
    "        label_col (str): Column name for class labels (default 'dx').\n",
    "        id_col (str): Column name for image IDs (default 'image_id').\n",
    "\n",
    "    Returns:\n",
    "        List[str]: List of image IDs from the undersampled class.\n",
    "    \"\"\"\n",
    "    df_class = df[df[label_col] == target_class]\n",
    "    sampled = df_class.sample(n=min_count, random_state=random_seed)\n",
    "    return sampled[id_col].tolist()\n",
    "\n",
    "def get_oversampled_image_ids(df, target_class, max_count, random_seed=42,\n",
    "                               label_col='dx', id_col='image_id'):\n",
    "    \"\"\"\n",
    "    Randomly oversample a specific class to max_count and return its image IDs.\n",
    "\n",
    "    Parameters:\n",
    "        df (pd.DataFrame): The full metadata dataframe.\n",
    "        target_class (str): Class label to oversample (e.g., 'akiec').\n",
    "        max_count (int): Number of samples to produce from that class.\n",
    "        random_seed (int): Seed for reproducibility.\n",
    "        label_col (str): Column name for class labels (default 'dx').\n",
    "        id_col (str): Column name for image IDs (default 'image_id').\n",
    "\n",
    "    Returns:\n",
    "        List[str]: List of image IDs from the oversampled class (may include duplicates).\n",
    "    \"\"\"\n",
    "    df_class = df[df[label_col] == target_class]\n",
    "    sampled = df_class.sample(n=max_count, replace=True, random_state=random_seed)\n",
    "    return sampled[id_col].tolist()"
   ]
  },
  {
   "cell_type": "code",
   "execution_count": 50,
   "id": "b01d34fe",
   "metadata": {},
   "outputs": [
    {
     "name": "stdout",
     "output_type": "stream",
     "text": [
      "------------------------------------------------------------------------------------------------------------------------------------------------------\n",
      " mel , sample threhold: 1283\n",
      "Collected 1283 new image ids\n",
      "len(oversampled_image_ids) =1283\n",
      "------------------------------------------------------------------------------------------------------------------------------------------------------\n",
      " bkl , sample threhold: 1224\n",
      "Collected 1224 new image ids\n",
      "len(oversampled_image_ids) =2507\n",
      "------------------------------------------------------------------------------------------------------------------------------------------------------\n",
      " bcc , sample threhold: 1241\n",
      "Collected 1241 new image ids\n",
      "len(oversampled_image_ids) =3748\n",
      "------------------------------------------------------------------------------------------------------------------------------------------------------\n",
      " akiec , sample threhold: 1260\n",
      "Collected 1260 new image ids\n",
      "len(oversampled_image_ids) =5008\n",
      "------------------------------------------------------------------------------------------------------------------------------------------------------\n",
      " vasc , sample threhold: 1164\n",
      "Collected 1164 new image ids\n",
      "len(oversampled_image_ids) =6172\n",
      "------------------------------------------------------------------------------------------------------------------------------------------------------\n",
      " df , sample threhold: 1279\n",
      "Collected 1279 new image ids\n",
      "len(oversampled_image_ids) =7451\n"
     ]
    }
   ],
   "source": [
    "oversample_class_labels = ['mel', 'bkl', 'bcc', 'akiec', 'vasc', 'df']\n",
    "oversampled_image_ids = []\n",
    "for item in oversample_class_labels:\n",
    "    print(\"-\"*150)\n",
    "    print(f\" {item} , sample threhold: { class_sample_thresholds[item] }\")\n",
    "    new_image_ids = get_oversampled_image_ids(df, item, max_count = class_sample_thresholds[item])\n",
    "    print(f\"Collected {len(new_image_ids)} new image ids\")\n",
    "    oversampled_image_ids.extend(new_image_ids)\n",
    "    print(f\"{len(oversampled_image_ids) =}\")"
   ]
  },
  {
   "cell_type": "code",
   "execution_count": 51,
   "id": "b1bfd2a9",
   "metadata": {},
   "outputs": [
    {
     "name": "stdout",
     "output_type": "stream",
     "text": [
      "len(oversampled_image_ids) =7451\n"
     ]
    }
   ],
   "source": [
    "print(f\"{len(oversampled_image_ids) =}\")"
   ]
  },
  {
   "cell_type": "code",
   "execution_count": 52,
   "id": "2037e7e9",
   "metadata": {},
   "outputs": [],
   "source": [
    "#Now under sample 'nv' class\n",
    "undersampled_image_ids = get_undersampled_image_ids(df, target_class='nv', min_count=class_sample_thresholds['nv'])"
   ]
  },
  {
   "cell_type": "code",
   "execution_count": 63,
   "id": "fd07b37b",
   "metadata": {},
   "outputs": [
    {
     "name": "stdout",
     "output_type": "stream",
     "text": [
      "len(oversampled_image_ids) =7451         len(undersampled_image_ids) =1208         len(SAMPLED_IDS) =8659\n"
     ]
    }
   ],
   "source": [
    "SAMPLED_IDS = oversampled_image_ids + undersampled_image_ids\n",
    "print(f\"{len(oversampled_image_ids) =} \\\n",
    "        {len(undersampled_image_ids) =} \\\n",
    "        {len(SAMPLED_IDS) =}\")\n",
    "SAMPLED_IDS = np.array(SAMPLED_IDS)"
   ]
  },
  {
   "cell_type": "code",
   "execution_count": 65,
   "id": "e1abdca1",
   "metadata": {},
   "outputs": [
    {
     "data": {
      "text/plain": [
       "Index(['lesion_id', 'image_id', 'dx', 'dx_type', 'age', 'sex', 'localization',\n",
       "       'dx_full'],\n",
       "      dtype='object')"
      ]
     },
     "execution_count": 65,
     "metadata": {},
     "output_type": "execute_result"
    }
   ],
   "source": [
    "df.columns"
   ]
  },
  {
   "cell_type": "code",
   "execution_count": 80,
   "id": "b520ab59",
   "metadata": {},
   "outputs": [],
   "source": [
    "np.random.seed(RANDOM_SEED) \n",
    "np.random.shuffle(SAMPLED_IDS) # shuffle the sample ids\n",
    "# Make image_id as the lookup key\n",
    "df_indexed = df.set_index('image_id')\n",
    "sampled_rows = []\n",
    "for img_id in SAMPLED_IDS:\n",
    "    row = df_indexed.loc[img_id]   \n",
    "    sampled_rows.append(row)      \n",
    "\n",
    "# Combine all collected rows into a new DataFrame\n",
    "DF_SAMPLED = pd.DataFrame(sampled_rows).reset_index()\n",
    "\n"
   ]
  },
  {
   "cell_type": "code",
   "execution_count": 81,
   "id": "238ca4b2",
   "metadata": {},
   "outputs": [
    {
     "data": {
      "application/vnd.microsoft.datawrangler.viewer.v0+json": {
       "columns": [
        {
         "name": "dx",
         "rawType": "object",
         "type": "string"
        },
        {
         "name": "count",
         "rawType": "int64",
         "type": "integer"
        }
       ],
       "ref": "b064aa83-234f-4bb0-9f26-62f6b2a3bd36",
       "rows": [
        [
         "mel",
         "1283"
        ],
        [
         "df",
         "1279"
        ],
        [
         "akiec",
         "1260"
        ],
        [
         "bcc",
         "1241"
        ],
        [
         "bkl",
         "1224"
        ],
        [
         "nv",
         "1208"
        ],
        [
         "vasc",
         "1164"
        ]
       ],
       "shape": {
        "columns": 1,
        "rows": 7
       }
      },
      "text/plain": [
       "dx\n",
       "mel      1283\n",
       "df       1279\n",
       "akiec    1260\n",
       "bcc      1241\n",
       "bkl      1224\n",
       "nv       1208\n",
       "vasc     1164\n",
       "Name: count, dtype: int64"
      ]
     },
     "execution_count": 81,
     "metadata": {},
     "output_type": "execute_result"
    }
   ],
   "source": [
    "DF_SAMPLED['dx'].value_counts()"
   ]
  },
  {
   "cell_type": "code",
   "execution_count": 87,
   "id": "79928432",
   "metadata": {},
   "outputs": [
    {
     "data": {
      "image/png": "[encoded data removed]",
      "text/plain": [
       "<Figure size 1000x600 with 1 Axes>"
      ]
     },
     "metadata": {},
     "output_type": "display_data"
    }
   ],
   "source": [
    "plot_label_distribution(df=df,label_col='dx')"
   ]
  },
  {
   "cell_type": "code",
   "execution_count": 86,
   "id": "224b607c",
   "metadata": {},
   "outputs": [
    {
     "data": {
      "image/png": "[encoded data removed]",
      "text/plain": [
       "<Figure size 1000x600 with 1 Axes>"
      ]
     },
     "metadata": {},
     "output_type": "display_data"
    }
   ],
   "source": [
    "plot_label_distribution(df=DF_SAMPLED,label_col='dx')"
   ]
  },
  {
   "cell_type": "code",
   "execution_count": 88,
   "id": "0520bab2",
   "metadata": {},
   "outputs": [],
   "source": [
    "DF_SAMPLED.to_csv(\"class_balanced_image_ids.csv\", index=False)"
   ]
  },
  {
   "cell_type": "markdown",
   "id": "9e7cb05e",
   "metadata": {},
   "source": [
    "--------------------------------------\n",
    "    END OF PRODUCTION CODE PHASE 1\n",
    "---------------------------------------"
   ]
  }
 ],
 "metadata": {
  "kernelspec": {
   "display_name": "base",
   "language": "python",
   "name": "python3"
  },
  "language_info": {
   "codemirror_mode": {
    "name": "ipython",
    "version": 3
   },
   "file_extension": ".py",
   "mimetype": "text/x-python",
   "name": "python",
   "nbconvert_exporter": "python",
   "pygments_lexer": "ipython3",
   "version": "3.11.10"
  }
 },
 "nbformat": 4,
 "nbformat_minor": 5
}
