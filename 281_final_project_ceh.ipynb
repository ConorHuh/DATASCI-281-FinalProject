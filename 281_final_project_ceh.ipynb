{
 "cells": [
  {
   "cell_type": "code",
   "execution_count": 31,
   "metadata": {},
   "outputs": [],
   "source": [
    "import numpy as np\n",
    "import pandas as pd\n",
    "from pathlib import Path\n",
    "import matplotlib.pyplot as plt\n",
    "import cv2\n",
    "from collections import defaultdict"
   ]
  },
  {
   "cell_type": "code",
   "execution_count": 8,
   "metadata": {},
   "outputs": [],
   "source": [
    "metadata_path = Path(\"/Users/conorhuh/Desktop/Berkeley/281/fp/skin-cancer-mnist-ham10000/HAM10000_metadata.csv\")\n",
    "data_folder_path_0 = Path(\"/Users/conorhuh/Desktop/Berkeley/281/fp/skin-cancer-mnist-ham10000/HAM10000_images_part_1\")\n",
    "data_folder_path_1 = Path(\"/Users/conorhuh/Desktop/Berkeley/281/fp/skin-cancer-mnist-ham10000/HAM10000_images_part_2\")"
   ]
  },
  {
   "cell_type": "code",
   "execution_count": 11,
   "metadata": {},
   "outputs": [
    {
     "name": "stdout",
     "output_type": "stream",
     "text": [
      "Index(['lesion_id', 'image_id', 'dx', 'dx_type', 'age', 'sex', 'localization'], dtype='object')\n"
     ]
    },
    {
     "data": {
      "text/html": [
       "<div>\n",
       "<style scoped>\n",
       "    .dataframe tbody tr th:only-of-type {\n",
       "        vertical-align: middle;\n",
       "    }\n",
       "\n",
       "    .dataframe tbody tr th {\n",
       "        vertical-align: top;\n",
       "    }\n",
       "\n",
       "    .dataframe thead th {\n",
       "        text-align: right;\n",
       "    }\n",
       "</style>\n",
       "<table border=\"1\" class=\"dataframe\">\n",
       "  <thead>\n",
       "    <tr style=\"text-align: right;\">\n",
       "      <th></th>\n",
       "      <th>lesion_id</th>\n",
       "      <th>image_id</th>\n",
       "      <th>dx</th>\n",
       "      <th>dx_type</th>\n",
       "      <th>age</th>\n",
       "      <th>sex</th>\n",
       "      <th>localization</th>\n",
       "    </tr>\n",
       "  </thead>\n",
       "  <tbody>\n",
       "    <tr>\n",
       "      <th>0</th>\n",
       "      <td>HAM_0000118</td>\n",
       "      <td>ISIC_0027419</td>\n",
       "      <td>bkl</td>\n",
       "      <td>histo</td>\n",
       "      <td>80.0</td>\n",
       "      <td>male</td>\n",
       "      <td>scalp</td>\n",
       "    </tr>\n",
       "    <tr>\n",
       "      <th>1</th>\n",
       "      <td>HAM_0000118</td>\n",
       "      <td>ISIC_0025030</td>\n",
       "      <td>bkl</td>\n",
       "      <td>histo</td>\n",
       "      <td>80.0</td>\n",
       "      <td>male</td>\n",
       "      <td>scalp</td>\n",
       "    </tr>\n",
       "    <tr>\n",
       "      <th>2</th>\n",
       "      <td>HAM_0002730</td>\n",
       "      <td>ISIC_0026769</td>\n",
       "      <td>bkl</td>\n",
       "      <td>histo</td>\n",
       "      <td>80.0</td>\n",
       "      <td>male</td>\n",
       "      <td>scalp</td>\n",
       "    </tr>\n",
       "    <tr>\n",
       "      <th>3</th>\n",
       "      <td>HAM_0002730</td>\n",
       "      <td>ISIC_0025661</td>\n",
       "      <td>bkl</td>\n",
       "      <td>histo</td>\n",
       "      <td>80.0</td>\n",
       "      <td>male</td>\n",
       "      <td>scalp</td>\n",
       "    </tr>\n",
       "    <tr>\n",
       "      <th>4</th>\n",
       "      <td>HAM_0001466</td>\n",
       "      <td>ISIC_0031633</td>\n",
       "      <td>bkl</td>\n",
       "      <td>histo</td>\n",
       "      <td>75.0</td>\n",
       "      <td>male</td>\n",
       "      <td>ear</td>\n",
       "    </tr>\n",
       "  </tbody>\n",
       "</table>\n",
       "</div>"
      ],
      "text/plain": [
       "     lesion_id      image_id   dx dx_type   age   sex localization\n",
       "0  HAM_0000118  ISIC_0027419  bkl   histo  80.0  male        scalp\n",
       "1  HAM_0000118  ISIC_0025030  bkl   histo  80.0  male        scalp\n",
       "2  HAM_0002730  ISIC_0026769  bkl   histo  80.0  male        scalp\n",
       "3  HAM_0002730  ISIC_0025661  bkl   histo  80.0  male        scalp\n",
       "4  HAM_0001466  ISIC_0031633  bkl   histo  75.0  male          ear"
      ]
     },
     "execution_count": 11,
     "metadata": {},
     "output_type": "execute_result"
    }
   ],
   "source": [
    "data_dictionary = pd.read_csv(metadata_path.as_posix())\n",
    "data_dictionary.head()"
   ]
  },
  {
   "cell_type": "code",
   "execution_count": 20,
   "metadata": {},
   "outputs": [
    {
     "name": "stdout",
     "output_type": "stream",
     "text": [
      "       lesion_id  image_id  dx_type   age   sex  localization\n",
      "dx                                                           \n",
      "akiec        327       327      327   327   327           327\n",
      "bcc          514       514      514   514   514           514\n",
      "bkl         1099      1099     1099  1089  1099          1099\n",
      "df           115       115      115   115   115           115\n",
      "mel         1113      1113     1113  1111  1113          1113\n",
      "nv          6705      6705     6705  6660  6705          6705\n",
      "vasc         142       142      142   142   142           142\n"
     ]
    },
    {
     "data": {
      "text/plain": [
       "<Axes: >"
      ]
     },
     "execution_count": 20,
     "metadata": {},
     "output_type": "execute_result"
    },
    {
     "data": {
      "image/png": "[encoded data removed]",
      "text/plain": [
       "<Figure size 640x480 with 1 Axes>"
      ]
     },
     "metadata": {},
     "output_type": "display_data"
    }
   ],
   "source": [
    "print(data_dictionary.groupby('dx').count())\n",
    "class_labels = data_dictionary['dx']\n",
    "class_labels.hist()"
   ]
  },
  {
   "cell_type": "code",
   "execution_count": 24,
   "metadata": {},
   "outputs": [
    {
     "name": "stdout",
     "output_type": "stream",
     "text": [
      "dx     lesion_id    image_id      dx_type    age   sex     localization   \n",
      "akiec  HAM_0000005  ISIC_0024579  histo      75.0  female  lower extremity    1\n",
      "                    ISIC_0025577  histo      75.0  female  lower extremity    1\n",
      "                    ISIC_0029638  histo      75.0  female  lower extremity    1\n",
      "                    ISIC_0030591  histo      75.0  female  lower extremity    1\n",
      "       HAM_0000020  ISIC_0031922  histo      60.0  female  face               1\n",
      "                                                                             ..\n",
      "vasc   HAM_0007372  ISIC_0030283  consensus  55.0  male    trunk              1\n",
      "       HAM_0007532  ISIC_0024662  consensus  75.0  male    trunk              1\n",
      "       HAM_0007568  ISIC_0024867  consensus  75.0  male    trunk              1\n",
      "       HAM_0007614  ISIC_0027672  histo      55.0  female  face               1\n",
      "                    ISIC_0029514  histo      55.0  female  face               1\n",
      "Name: count, Length: 9958, dtype: int64\n"
     ]
    }
   ],
   "source": [
    "print(data_dictionary.groupby('dx').value_counts())"
   ]
  },
  {
   "cell_type": "code",
   "execution_count": 35,
   "metadata": {},
   "outputs": [],
   "source": [
    "test_image_path = Path(\"/Users/conorhuh/Desktop/Berkeley/281/fp/skin-cancer-mnist-ham10000/HAM10000_images_part_1/\")\n"
   ]
  },
  {
   "cell_type": "code",
   "execution_count": null,
   "metadata": {},
   "outputs": [
    {
     "name": "stdout",
     "output_type": "stream",
     "text": [
      "defaultdict(<class 'int'>, {(450, 600, 3): 10015})\n"
     ]
    }
   ],
   "source": [
    "# defaultdict(<class 'int'>, {(450, 600, 3): 10015})\n",
    "\n",
    "# image_shapes = defaultdict(int)\n",
    "# for img in test_image_path.iterdir():\n",
    "#     temp_im = plt.imread(img.as_posix())\n",
    "#     shape = (temp_im.shape)\n",
    "#     image_shapes[shape] += 1\n",
    "\n",
    "# test_image_path = Path(\"/Users/conorhuh/Desktop/Berkeley/281/fp/skin-cancer-mnist-ham10000/HAM10000_images_part_2/\")\n",
    "# for im in test_image_path.iterdir():\n",
    "#     temp_im = plt.imread(img.as_posix())\n",
    "#     shape = (temp_im.shape)\n",
    "#     image_shapes[shape] += 1\n",
    "# print(image_shapes)"
   ]
  },
  {
   "cell_type": "code",
   "execution_count": null,
   "metadata": {},
   "outputs": [],
   "source": [
    "# data augmentation\n",
    "# we are going to want to flip along x, flip along y, rotate in 45 degree chunk \n",
    "\n",
    "# after data augmentation, we are going to want to test,train split, maybe validation\n",
    "# "
   ]
  },
  {
   "cell_type": "code",
   "execution_count": null,
   "metadata": {},
   "outputs": [],
   "source": [
    "def train_and_evaluate_final_model(\n",
    "\n",
    "model_name, X_train, y_train, X_test, y_test, label_encoder, random_state=42\n",
    "\n",
    "):\n",
    "\n",
    "\"\"\"\n",
    "\n",
    "Trains the final model on all data and evaluates it on the test set.\n",
    "\n",
    "\n",
    "\n",
    "Args:\n",
    "\n",
    "model_name (str): The name of the winning model.\n",
    "\n",
    "... other args are the data splits and configs.\n",
    "\n",
    "\n",
    "\n",
    "Returns:\n",
    "\n",
    "pd.DataFrame: The final classification report.\n",
    "\n",
    "object: The trained final model object.\n",
    "\n",
    "\"\"\"\n",
    "\n",
    "print(f\"\\n================ Training Final '{model_name}' Model ================\")\n",
    "\n",
    "\n",
    "# Look up the winning model's configuration\n",
    "\n",
    "config = MODELS[model_name]\n",
    "\n",
    "estimator = config['model']\n",
    "\n",
    "search_space = config['params']\n",
    "\n",
    "\n",
    "\n",
    "# Oversample the entire training set\n",
    "\n",
    "ros = RandomOverSampler(sampling_strategy='not majority', random_state=random_state)\n",
    "\n",
    "X_train_bal, y_train_bal = ros.fit_resample(X_train, y_train)\n",
    "\n",
    "\n",
    "\n",
    "# Search for optimal hyperparameters on the full, balanced training data\n",
    "\n",
    "print(\"Searching for optimal hyperparameters...\")\n",
    "\n",
    "inner_cv = StratifiedKFold(n_splits=3, shuffle=True, random_state=random_state)\n",
    "\n",
    "final_search = BayesSearchCV(\n",
    "\n",
    "estimator=estimator,\n",
    "\n",
    "search_spaces=search_space,\n",
    "\n",
    "n_iter=50, # Using more iterations for the final model\n",
    "\n",
    "cv=inner_cv,\n",
    "\n",
    "scoring='f1_macro',\n",
    "\n",
    "n_jobs=-1,\n",
    "\n",
    "random_state=random_state,\n",
    "\n",
    "verbose=0\n",
    "\n",
    ").fit(X_train_bal, y_train_bal)\n",
    "\n",
    "\n",
    "\n",
    "print(f\"Final optimal parameters found: {final_search.best_params_}\")\n",
    "\n",
    "\n",
    "# The best estimator is the final, trained model\n",
    "\n",
    "final_model = final_search.best_estimator_\n",
    "\n",
    "\n",
    "\n",
    "# Evaluate the final model on the hold-out test set\n",
    "\n",
    "print(\"\\n================ Final Test Evaluation ================\")\n",
    "\n",
    "y_test_pred = final_model.predict(X_test)\n",
    "\n",
    "\n",
    "report_dict = classification_report(\n",
    "\n",
    "y_test, y_test_pred, target_names=label_encoder.classes_, output_dict=True\n",
    "\n",
    ")\n",
    "\n",
    "df_report_test = pd.DataFrame(report_dict).transpose().round(4)\n",
    "\n",
    "\n",
    "\n",
    "return df_report_test, final_model"
   ]
  },
  {
   "cell_type": "code",
   "execution_count": null,
   "metadata": {},
   "outputs": [],
   "source": []
  },
  {
   "cell_type": "code",
   "execution_count": null,
   "metadata": {},
   "outputs": [],
   "source": []
  },
  {
   "cell_type": "code",
   "execution_count": null,
   "metadata": {},
   "outputs": [],
   "source": []
  }
 ],
 "metadata": {
  "kernelspec": {
   "display_name": "207",
   "language": "python",
   "name": "python3"
  },
  "language_info": {
   "codemirror_mode": {
    "name": "ipython",
    "version": 3
   },
   "file_extension": ".py",
   "mimetype": "text/x-python",
   "name": "python",
   "nbconvert_exporter": "python",
   "pygments_lexer": "ipython3",
   "version": "3.12.11"
  }
 },
 "nbformat": 4,
 "nbformat_minor": 2
}
