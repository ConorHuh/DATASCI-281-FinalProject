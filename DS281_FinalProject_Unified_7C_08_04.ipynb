{
  "cells": [
    {
      "cell_type": "markdown",
      "metadata": {
        "id": "xS-J0Rkk6i8C"
      },
      "source": [
        "# File has following components\n",
        "    # Loads simple features from persistence saved in prior run (file Unified_7B)\n",
        "    # Loads vit, resnet , and clip features extracted in prior run (file Unified_7B)\n",
        "    # Runs best model from file Unified 7 (XGBoostClassifier, hyperparamaters: lr=0.3, max_depth=3, n_est=491)\n",
        "    # Uses 80/20 train / test split, Stratified-k oversampling to address class imbalance, thresholding, full run on training (fit),\n",
        "    # and then inference on hold out test"
      ]
    },
    {
      "cell_type": "code",
      "execution_count": null,
      "metadata": {
        "colab": {
          "background_save": true,
          "base_uri": "https://localhost:8080/"
        },
        "id": "dUhx3Bwn2Pbr",
        "outputId": "303208b3-8077-4461-a656-08912231499b"
      },
      "outputs": [
        {
          "name": "stdout",
          "output_type": "stream",
          "text": [
            "Collecting scikit-optimize\n",
            "  Downloading scikit_optimize-0.10.2-py2.py3-none-any.whl.metadata (9.7 kB)\n",
            "Requirement already satisfied: joblib>=0.11 in /usr/local/lib/python3.11/dist-packages (from scikit-optimize) (1.5.1)\n",
            "Collecting pyaml>=16.9 (from scikit-optimize)\n",
            "  Downloading pyaml-25.7.0-py3-none-any.whl.metadata (12 kB)\n",
            "Requirement already satisfied: numpy>=1.20.3 in /usr/local/lib/python3.11/dist-packages (from scikit-optimize) (2.0.2)\n",
            "Requirement already satisfied: scipy>=1.1.0 in /usr/local/lib/python3.11/dist-packages (from scikit-optimize) (1.16.0)\n",
            "Requirement already satisfied: scikit-learn>=1.0.0 in /usr/local/lib/python3.11/dist-packages (from scikit-optimize) (1.6.1)\n",
            "Requirement already satisfied: packaging>=21.3 in /usr/local/lib/python3.11/dist-packages (from scikit-optimize) (25.0)\n",
            "Requirement already satisfied: PyYAML in /usr/local/lib/python3.11/dist-packages (from pyaml>=16.9->scikit-optimize) (6.0.2)\n",
            "Requirement already satisfied: threadpoolctl>=3.1.0 in /usr/local/lib/python3.11/dist-packages (from scikit-learn>=1.0.0->scikit-optimize) (3.6.0)\n",
            "Downloading scikit_optimize-0.10.2-py2.py3-none-any.whl (107 kB)\n",
            "\u001b[2K   \u001b[90m━━━━━━━━━━━━━━━━━━━━━━━━━━━━━━━━━━━━━━━━\u001b[0m \u001b[32m107.8/107.8 kB\u001b[0m \u001b[31m4.7 MB/s\u001b[0m eta \u001b[36m0:00:00\u001b[0m\n",
            "\u001b[?25hDownloading pyaml-25.7.0-py3-none-any.whl (26 kB)\n",
            "Installing collected packages: pyaml, scikit-optimize\n",
            "Successfully installed pyaml-25.7.0 scikit-optimize-0.10.2\n",
            "Collecting tqdm_joblib\n",
            "  Downloading tqdm_joblib-0.0.4-py3-none-any.whl.metadata (269 bytes)\n",
            "Requirement already satisfied: tqdm in /usr/local/lib/python3.11/dist-packages (from tqdm_joblib) (4.67.1)\n",
            "Downloading tqdm_joblib-0.0.4-py3-none-any.whl (1.7 kB)\n",
            "Installing collected packages: tqdm_joblib\n",
            "Successfully installed tqdm_joblib-0.0.4\n",
            "Requirement already satisfied: umap-learn in /usr/local/lib/python3.11/dist-packages (0.5.9.post2)\n",
            "Requirement already satisfied: numpy>=1.23 in /usr/local/lib/python3.11/dist-packages (from umap-learn) (2.0.2)\n",
            "Requirement already satisfied: scipy>=1.3.1 in /usr/local/lib/python3.11/dist-packages (from umap-learn) (1.16.0)\n",
            "Requirement already satisfied: scikit-learn>=1.6 in /usr/local/lib/python3.11/dist-packages (from umap-learn) (1.6.1)\n",
            "Requirement already satisfied: numba>=0.51.2 in /usr/local/lib/python3.11/dist-packages (from umap-learn) (0.60.0)\n",
            "Requirement already satisfied: pynndescent>=0.5 in /usr/local/lib/python3.11/dist-packages (from umap-learn) (0.5.13)\n",
            "Requirement already satisfied: tqdm in /usr/local/lib/python3.11/dist-packages (from umap-learn) (4.67.1)\n",
            "Requirement already satisfied: llvmlite<0.44,>=0.43.0dev0 in /usr/local/lib/python3.11/dist-packages (from numba>=0.51.2->umap-learn) (0.43.0)\n",
            "Requirement already satisfied: joblib>=0.11 in /usr/local/lib/python3.11/dist-packages (from pynndescent>=0.5->umap-learn) (1.5.1)\n",
            "Requirement already satisfied: threadpoolctl>=3.1.0 in /usr/local/lib/python3.11/dist-packages (from scikit-learn>=1.6->umap-learn) (3.6.0)\n",
            "Requirement already satisfied: PyWavelets in /usr/local/lib/python3.11/dist-packages (1.8.0)\n",
            "Requirement already satisfied: numpy<3,>=1.23 in /usr/local/lib/python3.11/dist-packages (from PyWavelets) (2.0.2)\n",
            "  Preparing metadata (setup.py) ... \u001b[?25l\u001b[?25hdone\n",
            "\u001b[2K   \u001b[90m━━━━━━━━━━━━━━━━━━━━━━━━━━━━━━━━━━━━━━━━\u001b[0m \u001b[32m44.8/44.8 kB\u001b[0m \u001b[31m2.5 MB/s\u001b[0m eta \u001b[36m0:00:00\u001b[0m\n",
            "\u001b[2K   \u001b[90m━━━━━━━━━━━━━━━━━━━━━━━━━━━━━━━━━━━━━━━━\u001b[0m \u001b[32m363.4/363.4 MB\u001b[0m \u001b[31m3.1 MB/s\u001b[0m eta \u001b[36m0:00:00\u001b[0m\n",
            "\u001b[2K   \u001b[90m━━━━━━━━━━━━━━━━━━━━━━━━━━━━━━━━━━━━━━━━\u001b[0m \u001b[32m13.8/13.8 MB\u001b[0m \u001b[31m125.5 MB/s\u001b[0m eta \u001b[36m0:00:00\u001b[0m\n",
            "\u001b[2K   \u001b[90m━━━━━━━━━━━━━━━━━━━━━━━━━━━━━━━━━━━━━━━━\u001b[0m \u001b[32m24.6/24.6 MB\u001b[0m \u001b[31m97.6 MB/s\u001b[0m eta \u001b[36m0:00:00\u001b[0m\n",
            "\u001b[2K   \u001b[90m━━━━━━━━━━━━━━━━━━━━━━━━━━━━━━━━━━━━━━━━\u001b[0m \u001b[32m883.7/883.7 kB\u001b[0m \u001b[31m58.2 MB/s\u001b[0m eta \u001b[36m0:00:00\u001b[0m\n",
            "\u001b[2K   \u001b[90m━━━━━━━━━━━━━━━━━━━━━━━━━━━━━━━━━━━━━━━━\u001b[0m \u001b[32m664.8/664.8 MB\u001b[0m \u001b[31m2.1 MB/s\u001b[0m eta \u001b[36m0:00:00\u001b[0m\n",
            "\u001b[2K   \u001b[90m━━━━━━━━━━━━━━━━━━━━━━━━━━━━━━━━━━━━━━━━\u001b[0m \u001b[32m211.5/211.5 MB\u001b[0m \u001b[31m4.9 MB/s\u001b[0m eta \u001b[36m0:00:00\u001b[0m\n",
            "\u001b[2K   \u001b[90m━━━━━━━━━━━━━━━━━━━━━━━━━━━━━━━━━━━━━━━━\u001b[0m \u001b[32m56.3/56.3 MB\u001b[0m \u001b[31m42.3 MB/s\u001b[0m eta \u001b[36m0:00:00\u001b[0m\n",
            "\u001b[2K   \u001b[90m━━━━━━━━━━━━━━━━━━━━━━━━━━━━━━━━━━━━━━━━\u001b[0m \u001b[32m127.9/127.9 MB\u001b[0m \u001b[31m20.6 MB/s\u001b[0m eta \u001b[36m0:00:00\u001b[0m\n",
            "\u001b[2K   \u001b[90m━━━━━━━━━━━━━━━━━━━━━━━━━━━━━━━━━━━━━━━━\u001b[0m \u001b[32m207.5/207.5 MB\u001b[0m \u001b[31m4.3 MB/s\u001b[0m eta \u001b[36m0:00:00\u001b[0m\n",
            "\u001b[2K   \u001b[90m━━━━━━━━━━━━━━━━━━━━━━━━━━━━━━━━━━━━━━━━\u001b[0m \u001b[32m21.1/21.1 MB\u001b[0m \u001b[31m109.9 MB/s\u001b[0m eta \u001b[36m0:00:00\u001b[0m\n",
            "\u001b[?25h  Building wheel for clip (setup.py) ... \u001b[?25l\u001b[?25hdone\n",
            "Requirement already satisfied: imbalanced-learn in /usr/local/lib/python3.11/dist-packages (0.13.0)\n",
            "Requirement already satisfied: numpy<3,>=1.24.3 in /usr/local/lib/python3.11/dist-packages (from imbalanced-learn) (2.0.2)\n",
            "Requirement already satisfied: scipy<2,>=1.10.1 in /usr/local/lib/python3.11/dist-packages (from imbalanced-learn) (1.16.0)\n",
            "Requirement already satisfied: scikit-learn<2,>=1.3.2 in /usr/local/lib/python3.11/dist-packages (from imbalanced-learn) (1.6.1)\n",
            "Requirement already satisfied: sklearn-compat<1,>=0.1 in /usr/local/lib/python3.11/dist-packages (from imbalanced-learn) (0.1.3)\n",
            "Requirement already satisfied: joblib<2,>=1.1.1 in /usr/local/lib/python3.11/dist-packages (from imbalanced-learn) (1.5.1)\n",
            "Requirement already satisfied: threadpoolctl<4,>=2.0.0 in /usr/local/lib/python3.11/dist-packages (from imbalanced-learn) (3.6.0)\n"
          ]
        }
      ],
      "source": [
        "# --- Install Required Packages ---\n",
        "! pip install scikit-optimize\n",
        "! pip install tqdm_joblib\n",
        "! pip install umap-learn\n",
        "! pip install PyWavelets\n",
        "! pip install -q git+https://github.com/openai/CLIP.git\n",
        "! pip install -q ftfy regex tqdm\n",
        "! pip install imbalanced-learn\n",
        "\n",
        "\n",
        "# --- Standard Library Imports ---\n",
        "import numpy as np\n",
        "from pathlib import Path\n",
        "import os\n",
        "import random\n",
        "import re\n",
        "import warnings\n",
        "import multiprocessing\n",
        "\n",
        "\n",
        "# --- Google Colab / IPython Imports ---\n",
        "from google.colab import drive\n",
        "from IPython.display import Image\n",
        "\n",
        "# --- Third-Party Library Imports ---\n",
        "import zipfile\n",
        "import cv2\n",
        "import cupy as cp\n",
        "import cuml\n",
        "import lightgbm as lgb\n",
        "import matplotlib.pyplot as plt\n",
        "import numpy as np\n",
        "import pandas as pd\n",
        "import pywt\n",
        "import seaborn as sns\n",
        "import torch\n",
        "import logging\n",
        "import umap\n",
        "from joblib import Parallel, delayed\n",
        "from scipy.stats import kurtosis, skew\n",
        "from skimage import exposure\n",
        "from skimage.color import rgb2gray\n",
        "from skimage.feature import (\n",
        "    hog, local_binary_pattern, graycomatrix, graycoprops\n",
        ")\n",
        "from skimage.filters import sobel\n",
        "from skimage.measure import shannon_entropy\n",
        "from tqdm import tqdm\n",
        "from tqdm_joblib import tqdm_joblib\n",
        "from transformers import (\n",
        "    ViTModel, ViTImageProcessor, ViTFeatureExtractor\n",
        ")\n",
        "\n",
        "# --- CuML Imports ---\n",
        "from cuml.pipeline import Pipeline as cuPipeline\n",
        "from cuml.preprocessing import StandardScaler as cuStandardScaler\n",
        "from cuml.ensemble import RandomForestClassifier as cuRF\n",
        "from cuml.linear_model import LogisticRegression as cuLogReg\n",
        "from cuml.model_selection import StratifiedKFold as cuStratifiedKFold\n",
        "from cuml.neighbors import KNeighborsClassifier as cuKNeighbors\n",
        "from cuml.svm import SVC as cuSVC\n",
        "\n",
        "# --- Imbalanced-Learn Imports ---\n",
        "from imblearn.over_sampling import RandomOverSampler\n",
        "from imblearn.pipeline import Pipeline as ImbPipeline\n",
        "\n",
        "# --- Scikit-Optimize Imports ---\n",
        "from skopt import BayesSearchCV\n",
        "from skopt.space import Categorical, Integer, Real\n",
        "\n",
        "# --- Scikit-Learn Imports ---\n",
        "from sklearn.base import BaseEstimator, ClassifierMixin\n",
        "from sklearn.decomposition import PCA\n",
        "from sklearn.ensemble import RandomForestClassifier\n",
        "from sklearn.linear_model import LogisticRegression\n",
        "from sklearn.metrics import (\n",
        "    accuracy_score, balanced_accuracy_score, classification_report,\n",
        "    confusion_matrix, roc_auc_score, f1_score\n",
        ")\n",
        "from sklearn.model_selection import (\n",
        "    GridSearchCV, StratifiedKFold, cross_val_score, train_test_split\n",
        ")\n",
        "from sklearn.neighbors import KNeighborsClassifier\n",
        "from sklearn.neural_network import MLPClassifier\n",
        "from sklearn.pipeline import Pipeline\n",
        "from sklearn.preprocessing import LabelEncoder, StandardScaler\n",
        "from sklearn.svm import SVC\n",
        "from sklearn.tree import DecisionTreeClassifier, plot_tree\n",
        "\n",
        "# --- XGBoost Imports ---\n",
        "from xgboost import XGBClassifier\n",
        "\n",
        "# --- Configuration ---\n",
        "random.seed(42)\n",
        "warnings.filterwarnings(\"ignore\")\n",
        "\n",
        "# Get the logger used by the cuml library and set its level\n",
        "logging.getLogger('cuml').setLevel(logging.ERROR)\n"
      ]
    },
    {
      "cell_type": "markdown",
      "metadata": {
        "id": "nyiV-OAruCZK"
      },
      "source": []
    },
    {
      "cell_type": "code",
      "execution_count": null,
      "metadata": {
        "colab": {
          "base_uri": "https://localhost:8080/"
        },
        "id": "TKYmtafwIj9z",
        "outputId": "a6d2d69b-7d6d-4877-d238-0e5abd599c14"
      },
      "outputs": [
        {
          "output_type": "stream",
          "name": "stdout",
          "text": [
            "  Preparing metadata (setup.py) ... \u001b[?25l\u001b[?25hdone\n"
          ]
        }
      ],
      "source": [
        "!pip install -q torch torchvision tqdm ftfy regex\n",
        "!pip install -q git+https://github.com/openai/CLIP.git\n"
      ]
    },
    {
      "cell_type": "code",
      "execution_count": null,
      "metadata": {
        "id": "-KMLrjdb9RCJ"
      },
      "outputs": [],
      "source": [
        "#some utility functions\n",
        "def whoAmI(img):\n",
        "    \"\"\"\n",
        "    Prints dtype, min, max, mean, height, and width of an image.\n",
        "    \"\"\"\n",
        "    print(f\"dtype     : {img.dtype}\")\n",
        "    print(f\"min       : {np.min(img):.4f}\")\n",
        "    print(f\"max       : {np.max(img):.4f}\")\n",
        "    print(f\"mean      : {np.mean(img):.4f}\")\n",
        "    print(f\"shape     : {img.shape}\")\n",
        "    if img.ndim == 2:\n",
        "        print(f\"height    : {img.shape[0]}\")\n",
        "        print(f\"width     : {img.shape[1]}\")\n",
        "    elif img.ndim == 3:\n",
        "        print(f\"height    : {img.shape[0]}\")\n",
        "        print(f\"width     : {img.shape[1]}\")\n",
        "        print(f\"channels  : {img.shape[2]}\")\n",
        "\n",
        "#VS - II helpful functions\n",
        "\n",
        "# summarizes a data frame in a printer friendly way\n",
        "def summarize_dataframe(df):\n",
        "    summary = pd.DataFrame({\n",
        "        'Column Name': df.columns,\n",
        "        'Data Type': df.dtypes.values,\n",
        "        'Null Count': df.isnull().sum().values,\n",
        "        'Non-Null Count': df.notnull().sum().values,\n",
        "        'Unique Count': df.nunique().values\n",
        "    })\n",
        "    return summary\n",
        "\n",
        "def plot_training_history(history):\n",
        "    \"\"\"\n",
        "    Plots training and validation loss & accuracy from a Keras history object.\n",
        "\n",
        "    Parameters:\n",
        "    - history: Keras history object from model.fit()\n",
        "    \"\"\"\n",
        "\n",
        "    epochs = range(1, len(history.history['loss']) + 1)\n",
        "\n",
        "    train_loss = history.history['loss']\n",
        "    val_loss = history.history['val_loss']\n",
        "    train_acc = history.history['accuracy']\n",
        "    val_acc = history.history['val_accuracy']\n",
        "\n",
        "\n",
        "    fig, ax = plt.subplots(1, 2, figsize=(12, 5))\n",
        "\n",
        "    ax[0].plot(epochs, train_loss, label='Training Loss', color='blue', linestyle='-')\n",
        "    ax[0].plot(epochs, val_loss, label='Validation Loss', color='red', linestyle='--')\n",
        "    ax[0].set_title('Training & Validation Loss')\n",
        "    ax[0].set_xlabel('Epochs')\n",
        "    ax[0].set_ylabel('Loss')\n",
        "    ax[0].legend()\n",
        "\n",
        "    ax[1].plot(epochs, train_acc, label='Training Accuracy', color='blue', linestyle='-')\n",
        "    ax[1].plot(epochs, val_acc, label='Validation Accuracy', color='red', linestyle='--')\n",
        "    ax[1].set_title('Training & Validation Accuracy')\n",
        "    ax[1].set_xlabel('Epochs')\n",
        "    ax[1].set_ylabel('Accuracy')\n",
        "    ax[1].legend()\n",
        "\n",
        "    plt.tight_layout()\n",
        "    plt.show()\n",
        "\n"
      ]
    },
    {
      "cell_type": "markdown",
      "metadata": {
        "id": "nVjaHT6MMXj6"
      },
      "source": [
        "# Load saved feature vectors"
      ]
    },
    {
      "cell_type": "code",
      "execution_count": null,
      "metadata": {
        "id": "dL8714MD6i8F"
      },
      "outputs": [],
      "source": [
        "import numpy as np\n",
        "from pathlib import Path\n",
        "\n",
        "def mount_google_drive():\n",
        "    \"\"\"\n",
        "    Mounts the user's Google Drive in a Colab environment.\n",
        "    Returns the root mount path as a Path object.\n",
        "    \"\"\"\n",
        "    from google.colab import drive\n",
        "    from pathlib import Path\n",
        "\n",
        "    print(\"Mounting Google Drive...\")\n",
        "    drive.mount('/content/drive', force_remount=True)\n",
        "    drive_path = Path(\"/content/drive/MyDrive\")\n",
        "    print(f\"Google Drive mounted at: {drive_path}\")\n",
        "    return drive_path\n",
        "\n",
        "def load_vit_features():\n",
        "    file_path = Path(\"/content/drive/MyDrive/w81_fp/vit_feature_set_all.npz\")\n",
        "    data = np.load(file_path, allow_pickle=True)\n",
        "    print(\" Loaded ViT features. Keys:\", data.files)\n",
        "    return data\n",
        "\n",
        "def load_resnet_features():\n",
        "    file_path = Path(\"/content/drive/MyDrive/w81_fp/resnet_features_with_ids.npz\")\n",
        "    data = np.load(file_path, allow_pickle=True)\n",
        "    print(\" Loaded ResNet features. Keys:\", data.files)\n",
        "    return data\n",
        "\n",
        "def load_clip_features():\n",
        "    file_path = Path(\"/content/drive/MyDrive/w81_fp/clip_features_with_ids.npz\")\n",
        "    data = np.load(file_path, allow_pickle=True)\n",
        "    print(\" Loaded CLIP features. Keys:\", data.files)\n",
        "    return data\n",
        "\n",
        "def load_simple_features():\n",
        "    file_path = Path(\"/content/drive/MyDrive/w81_fp/simple_feature_set_all.npz\")\n",
        "    data = np.load(file_path, allow_pickle=True)\n",
        "    print(\"Loaded Simple features. Keys:\", data.files)\n",
        "    return data\n"
      ]
    },
    {
      "cell_type": "code",
      "execution_count": null,
      "metadata": {
        "colab": {
          "base_uri": "https://localhost:8080/"
        },
        "id": "9Et6USai7_n2",
        "outputId": "66b17057-167e-4ef0-e15a-c001733f0d8d"
      },
      "outputs": [
        {
          "name": "stdout",
          "output_type": "stream",
          "text": [
            "Mounting Google Drive...\n",
            "Mounted at /content/drive\n",
            "Google Drive mounted at: /content/drive/MyDrive\n"
          ]
        },
        {
          "data": {
            "text/plain": [
              "PosixPath('/content/drive/MyDrive')"
            ]
          },
          "execution_count": 7,
          "metadata": {},
          "output_type": "execute_result"
        }
      ],
      "source": [
        "mount_google_drive()"
      ]
    },
    {
      "cell_type": "code",
      "execution_count": null,
      "metadata": {
        "colab": {
          "base_uri": "https://localhost:8080/"
        },
        "id": "UKpzArdZMf1D",
        "outputId": "3f393062-5cd2-47e4-c905-89d969e214b0"
      },
      "outputs": [
        {
          "name": "stdout",
          "output_type": "stream",
          "text": [
            "Loaded Simple features. Keys: ['X_hog', 'X_hsv', 'X_lbp', 'X_color', 'X_intensity', 'X_glcm', 'X_gabor', 'X_shape', 'X_corners', 'X_sift', 'X_wavelet', 'X_sobel', 'labels', 'image_ids']\n",
            "Available keys: ['X_hog', 'X_hsv', 'X_lbp', 'X_color', 'X_intensity', 'X_glcm', 'X_gabor', 'X_shape', 'X_corners', 'X_sift', 'X_wavelet', 'X_sobel', 'labels', 'image_ids']\n",
            " Loaded simple feature vectors.\n",
            "color shape: (10015, 518)\n",
            "HSV shape: (10015, 1024)\n",
            "gabor shape: (10015, 48)\n",
            "LBP shape: (10015, 10)\n",
            "glcm shape: (10015, 6)\n",
            "Labels loaded: 10015\n"
          ]
        }
      ],
      "source": [
        "# # Load the .npz file\n",
        "#vit, color,hsv Gabor,lbp\n",
        "data_simple_features = load_simple_features()\n",
        "print(\"Available keys:\", data_simple_features.files)\n",
        "\n",
        "# Extract all feature arrays\n",
        "X_hog       = data_simple_features['X_hog']\n",
        "X_hsv       = data_simple_features['X_hsv']\n",
        "X_lbp       = data_simple_features['X_lbp']\n",
        "X_color     = data_simple_features['X_color']\n",
        "X_intensity = data_simple_features['X_intensity']\n",
        "X_glcm      = data_simple_features['X_glcm']\n",
        "X_gabor     = data_simple_features['X_gabor']\n",
        "X_shape     = data_simple_features['X_shape']\n",
        "X_corners   = data_simple_features['X_corners']\n",
        "X_sift      = data_simple_features['X_sift']\n",
        "X_wavelet   = data_simple_features['X_wavelet']\n",
        "X_sobel     = data_simple_features['X_sobel']\n",
        "\n",
        "# Also load metadata_simple_features\n",
        "labels      = data_simple_features['labels'].tolist()\n",
        "image_ids   = data_simple_features['image_ids'].tolist()\n",
        "\n",
        "\n",
        "# Summary\n",
        "print(\" Loaded simple feature vectors.\")\n",
        "print(\"color shape:\", X_color.shape)\n",
        "print(\"HSV shape:\", X_hsv.shape)\n",
        "print(\"gabor shape:\", X_gabor.shape)\n",
        "print(\"LBP shape:\", X_lbp.shape)\n",
        "print(\"glcm shape:\", X_glcm.shape)\n",
        "print(\"Labels loaded:\", len(labels))\n"
      ]
    },
    {
      "cell_type": "code",
      "execution_count": null,
      "metadata": {
        "colab": {
          "base_uri": "https://localhost:8080/"
        },
        "id": "O4gtmjY-8oPy",
        "outputId": "f1389308-2029-4188-f068-4e972af0d494"
      },
      "outputs": [
        {
          "data": {
            "text/plain": [
              "['bkl', 'bkl', 'bkl', 'bkl', 'bkl']"
            ]
          },
          "execution_count": 11,
          "metadata": {},
          "output_type": "execute_result"
        }
      ],
      "source": [
        "labels[:5]"
      ]
    },
    {
      "cell_type": "code",
      "execution_count": null,
      "metadata": {
        "colab": {
          "base_uri": "https://localhost:8080/"
        },
        "id": "wVB7d_lliSoW",
        "outputId": "9000a02a-1b44-4eee-beb2-042cc151b271"
      },
      "outputs": [
        {
          "data": {
            "text/plain": [
              "{0: np.str_('akiec'),\n",
              " 1: np.str_('bcc'),\n",
              " 2: np.str_('bkl'),\n",
              " 3: np.str_('df'),\n",
              " 4: np.str_('mel'),\n",
              " 5: np.str_('nv'),\n",
              " 6: np.str_('vasc')}"
            ]
          },
          "execution_count": 12,
          "metadata": {},
          "output_type": "execute_result"
        }
      ],
      "source": [
        "# Encode Labels\n",
        "from sklearn.preprocessing import LabelEncoder\n",
        "\n",
        "label_encoder = LabelEncoder()\n",
        "y = label_encoder.fit_transform(labels)\n",
        "class_mapping = {index: label for index, label in enumerate(label_encoder.classes_)}\n",
        "class_mapping\n"
      ]
    },
    {
      "cell_type": "code",
      "execution_count": null,
      "metadata": {
        "colab": {
          "base_uri": "https://localhost:8080/"
        },
        "id": "Ig6A2GCVc5ua",
        "outputId": "99279e6f-c8a1-4319-a2e6-e41724421c7f"
      },
      "outputs": [
        {
          "name": "stdout",
          "output_type": "stream",
          "text": [
            " Loaded ViT features. Keys: ['X_vit', 'labels', 'image_ids']\n",
            " Loaded ResNet features. Keys: ['X_resnet', 'labels', 'image_ids']\n",
            " Loaded CLIP features. Keys: ['X_clip', 'labels', 'image_ids']\n"
          ]
        }
      ],
      "source": [
        "data_vit = load_vit_features()\n",
        "data_resnet = load_resnet_features()\n",
        "data_clip = load_clip_features()"
      ]
    },
    {
      "cell_type": "code",
      "execution_count": null,
      "metadata": {
        "id": "AfNaZEO49aIK"
      },
      "outputs": [],
      "source": [
        "X_vit = data_vit['X_vit']\n",
        "X_resnet = data_resnet['X_resnet']\n",
        "X_clip = data_clip['X_clip']"
      ]
    },
    {
      "cell_type": "code",
      "execution_count": null,
      "metadata": {
        "colab": {
          "base_uri": "https://localhost:8080/"
        },
        "id": "6p-w2_jz-Snm",
        "outputId": "8072d69c-1dce-4abc-bee0-8e043df4afae"
      },
      "outputs": [
        {
          "name": "stdout",
          "output_type": "stream",
          "text": [
            "dtype     : float32\n",
            "min       : -0.9224\n",
            "max       : 0.9147\n",
            "mean      : -0.0176\n",
            "shape     : (10015, 768)\n",
            "height    : 10015\n",
            "width     : 768\n"
          ]
        }
      ],
      "source": [
        "whoAmI(X_vit)"
      ]
    },
    {
      "cell_type": "code",
      "execution_count": null,
      "metadata": {
        "colab": {
          "base_uri": "https://localhost:8080/"
        },
        "id": "fYqRKA8--XoO",
        "outputId": "785f9142-8517-47cd-fab3-3c8dd30bba9a"
      },
      "outputs": [
        {
          "name": "stdout",
          "output_type": "stream",
          "text": [
            "dtype     : float32\n",
            "min       : 0.0000\n",
            "max       : 8.1364\n",
            "mean      : 0.3612\n",
            "shape     : (10015, 2048)\n",
            "height    : 10015\n",
            "width     : 2048\n"
          ]
        }
      ],
      "source": [
        "whoAmI(X_resnet)"
      ]
    },
    {
      "cell_type": "code",
      "execution_count": null,
      "metadata": {
        "colab": {
          "base_uri": "https://localhost:8080/"
        },
        "id": "3d9Jo78S-ayF",
        "outputId": "e2636f05-aa51-44fa-d3ec-883b9b0ac7d3"
      },
      "outputs": [
        {
          "name": "stdout",
          "output_type": "stream",
          "text": [
            "dtype     : float16\n",
            "min       : -8.9844\n",
            "max       : 4.3125\n",
            "mean      : -0.0266\n",
            "shape     : (10015, 512)\n",
            "height    : 10015\n",
            "width     : 512\n"
          ]
        }
      ],
      "source": [
        "whoAmI(X_clip)"
      ]
    },
    {
      "cell_type": "code",
      "execution_count": null,
      "metadata": {
        "colab": {
          "base_uri": "https://localhost:8080/"
        },
        "id": "9ZRiJINt-ekq",
        "outputId": "4274adc6-5f8b-4ba2-81fa-83aaabe68dea"
      },
      "outputs": [
        {
          "name": "stdout",
          "output_type": "stream",
          "text": [
            "dtype     : float64\n",
            "min       : 0.0000\n",
            "max       : 254.2366\n",
            "mean      : 1.0977\n",
            "shape     : (10015, 518)\n",
            "height    : 10015\n",
            "width     : 518\n"
          ]
        }
      ],
      "source": [
        "whoAmI(X_color)"
      ]
    },
    {
      "cell_type": "code",
      "execution_count": null,
      "metadata": {
        "colab": {
          "base_uri": "https://localhost:8080/"
        },
        "id": "Uoo7pt3o-h12",
        "outputId": "d4dcb4e2-67fe-4c41-de8c-a4169334cc9c"
      },
      "outputs": [
        {
          "name": "stdout",
          "output_type": "stream",
          "text": [
            "dtype     : float32\n",
            "min       : 0.0000\n",
            "max       : 0.9998\n",
            "mean      : 0.0024\n",
            "shape     : (10015, 1024)\n",
            "height    : 10015\n",
            "width     : 1024\n"
          ]
        }
      ],
      "source": [
        "whoAmI(X_hsv)"
      ]
    },
    {
      "cell_type": "code",
      "execution_count": null,
      "metadata": {
        "colab": {
          "base_uri": "https://localhost:8080/"
        },
        "id": "ncbCMXvm-kt7",
        "outputId": "e6b154dd-6dd9-4538-c72d-c9c964b49b21"
      },
      "outputs": [
        {
          "name": "stdout",
          "output_type": "stream",
          "text": [
            "dtype     : float64\n",
            "min       : 0.0000\n",
            "max       : 255.0000\n",
            "mean      : 84.4235\n",
            "shape     : (10015, 48)\n",
            "height    : 10015\n",
            "width     : 48\n"
          ]
        }
      ],
      "source": [
        "whoAmI(X_gabor)"
      ]
    },
    {
      "cell_type": "code",
      "execution_count": null,
      "metadata": {
        "colab": {
          "base_uri": "https://localhost:8080/"
        },
        "id": "fG-yLQyd-pHz",
        "outputId": "6ba5818a-9afa-401e-f772-ac6a206ff404"
      },
      "outputs": [
        {
          "name": "stdout",
          "output_type": "stream",
          "text": [
            "dtype     : float64\n",
            "min       : 0.0133\n",
            "max       : 0.2821\n",
            "mean      : 0.1000\n",
            "shape     : (10015, 10)\n",
            "height    : 10015\n",
            "width     : 10\n"
          ]
        }
      ],
      "source": [
        "whoAmI(X_lbp)"
      ]
    },
    {
      "cell_type": "code",
      "execution_count": null,
      "metadata": {
        "id": "p3_RnNdC_r1e"
      },
      "outputs": [],
      "source": [
        "## Scale simple features because deep features are scaled\n",
        "from sklearn.preprocessing import StandardScaler\n",
        "\n",
        "scaler_color = StandardScaler().fit(X_color)\n",
        "scaler_hsv   = StandardScaler().fit(X_hsv)\n",
        "scaler_gabor = StandardScaler().fit(X_gabor)\n",
        "scaler_lbp   = StandardScaler().fit(X_lbp)\n",
        "\n",
        "X_color_scaled = scaler_color.transform(X_color)\n",
        "X_hsv_scaled   = scaler_hsv.transform(X_hsv)\n",
        "X_gabor_scaled = scaler_gabor.transform(X_gabor)\n",
        "X_lbp_scaled   = scaler_lbp.transform(X_lbp)\n"
      ]
    },
    {
      "cell_type": "code",
      "execution_count": null,
      "metadata": {
        "id": "N8DB7qqpldRz"
      },
      "outputs": [],
      "source": [
        "#vit, color,hsv Gabor,lbp\n",
        "\n",
        "X_combined_vit = np.hstack([X_vit, X_color_scaled, X_hsv_scaled, X_gabor_scaled, X_lbp_scaled])\n",
        "X_combined_resnet = np.hstack([X_resnet, X_color_scaled, X_hsv_scaled, X_gabor_scaled, X_lbp_scaled])\n",
        "X_combined_clip = np.hstack([X_clip, X_color_scaled, X_hsv_scaled, X_gabor_scaled, X_lbp_scaled])\n"
      ]
    },
    {
      "cell_type": "code",
      "execution_count": null,
      "metadata": {
        "colab": {
          "base_uri": "https://localhost:8080/"
        },
        "id": "jW8XbV_0-trq",
        "outputId": "c61a6369-0c17-408d-c017-31e0c77b50f7"
      },
      "outputs": [
        {
          "name": "stdout",
          "output_type": "stream",
          "text": [
            "dtype     : float64\n",
            "min       : -23.8167\n",
            "max       : 100.0700\n",
            "mean      : -0.0057\n",
            "shape     : (10015, 2368)\n",
            "height    : 10015\n",
            "width     : 2368\n"
          ]
        }
      ],
      "source": [
        "whoAmI(X_combined_vit)"
      ]
    },
    {
      "cell_type": "code",
      "execution_count": null,
      "metadata": {
        "colab": {
          "base_uri": "https://localhost:8080/"
        },
        "id": "Ns6zMFc5-zwu",
        "outputId": "1fd2c529-11fe-4552-f6f5-387d96fb5076"
      },
      "outputs": [
        {
          "name": "stdout",
          "output_type": "stream",
          "text": [
            "dtype     : float64\n",
            "min       : -23.8167\n",
            "max       : 100.0700\n",
            "mean      : 0.2028\n",
            "shape     : (10015, 3648)\n",
            "height    : 10015\n",
            "width     : 3648\n"
          ]
        }
      ],
      "source": [
        "whoAmI(X_combined_resnet)"
      ]
    },
    {
      "cell_type": "code",
      "execution_count": null,
      "metadata": {
        "colab": {
          "base_uri": "https://localhost:8080/"
        },
        "id": "Y_ncBZJL-3T9",
        "outputId": "3c8d2860-e27f-4385-b818-4f3756073424"
      },
      "outputs": [
        {
          "name": "stdout",
          "output_type": "stream",
          "text": [
            "dtype     : float64\n",
            "min       : -23.8167\n",
            "max       : 100.0700\n",
            "mean      : -0.0065\n",
            "shape     : (10015, 2112)\n",
            "height    : 10015\n",
            "width     : 2112\n"
          ]
        }
      ],
      "source": [
        "whoAmI(X_combined_clip)"
      ]
    },
    {
      "cell_type": "code",
      "execution_count": null,
      "metadata": {
        "colab": {
          "base_uri": "https://localhost:8080/"
        },
        "id": "AEXqch0QBFSv",
        "outputId": "0606355b-acc6-47eb-f5c7-084cb8cfc587"
      },
      "outputs": [
        {
          "name": "stdout",
          "output_type": "stream",
          "text": [
            "dtype     : int64\n",
            "min       : 0.0000\n",
            "max       : 6.0000\n",
            "mean      : 4.1823\n",
            "shape     : (10015,)\n"
          ]
        }
      ],
      "source": [
        "whoAmI(y)"
      ]
    },
    {
      "cell_type": "code",
      "execution_count": null,
      "metadata": {
        "colab": {
          "base_uri": "https://localhost:8080/"
        },
        "id": "9K8chP_dBImn",
        "outputId": "fca107f5-07d6-4d37-ca64-503d8f148e73"
      },
      "outputs": [
        {
          "data": {
            "text/plain": [
              "array([2, 2, 2, 2, 2])"
            ]
          },
          "execution_count": 44,
          "metadata": {},
          "output_type": "execute_result"
        }
      ],
      "source": [
        "y[:5]"
      ]
    },
    {
      "cell_type": "markdown",
      "metadata": {
        "id": "FoekZyPk6i8G"
      },
      "source": [
        "# XGBoostClassifier - lr=0.3, max_depth=3, n_est=491\n",
        "    80/20 train / test\n",
        "    Stratified k fold, with random oversampling on training folds\n",
        "    Threshold tuning\n",
        "    Run on full training data set\n",
        "    Get test inference metrics"
      ]
    },
    {
      "cell_type": "code",
      "execution_count": null,
      "metadata": {
        "id": "ID6qcwF2KILd"
      },
      "outputs": [],
      "source": [
        "import pickle\n",
        "from pathlib import Path\n",
        "\n",
        "# --- Save Results ---\n",
        "def save_results_to_drive(results, filename=\"results_sf_vit.pkl\", folder=\"/content/drive/MyDrive/w81_fp\"):\n",
        "    \"\"\"\n",
        "    Saves the results dictionary (including model) to Google Drive as a .pkl file.\n",
        "    \"\"\"\n",
        "    path = Path(folder) / filename\n",
        "    with open(path, \"wb\") as f:\n",
        "        pickle.dump(results, f)\n",
        "    print(f\"[✓] Saved results to: {path}\")\n",
        "\n",
        "# --- Load Results ---\n",
        "def load_results_from_drive(filename=\"results_sf_vit.pkl\", folder=\"/content/drive/MyDrive/w81_fp\"):\n",
        "    \"\"\"\n",
        "    Loads the saved .pkl results file from Google Drive.\n",
        "    \"\"\"\n",
        "    path = Path(folder) / filename\n",
        "    with open(path, \"rb\") as f:\n",
        "        results = pickle.load(f)\n",
        "    print(f\"[✓] Loaded results from: {path}\")\n",
        "    return results\n",
        "\n",
        "# Example usage:\n",
        "# save_results_to_drive(results_sf_vit)\n",
        "# loaded_results = load_results_from_drive()\n"
      ]
    },
    {
      "cell_type": "code",
      "execution_count": null,
      "metadata": {
        "id": "F5Wex_fP6i8H"
      },
      "outputs": [],
      "source": [
        "import numpy as np\n",
        "import pandas as pd\n",
        "from sklearn.model_selection import StratifiedKFold, train_test_split\n",
        "from sklearn.metrics import (\n",
        "    classification_report, roc_auc_score, accuracy_score,\n",
        "    balanced_accuracy_score, f1_score\n",
        ")\n",
        "from imblearn.over_sampling import RandomOverSampler\n",
        "\n",
        "# --- Helper: Tune optimal threshold ---\n",
        "def tune_confidence_threshold_multiclass(probs, y_true, thresholds=np.linspace(0.1, 0.9, 81)):\n",
        "    best_threshold = 0.5\n",
        "    best_f1 = 0.0\n",
        "\n",
        "    for T in thresholds:\n",
        "        y_pred = []\n",
        "        for p in probs:\n",
        "            if np.max(p) >= T:\n",
        "                y_pred.append(np.argmax(p))\n",
        "            else:\n",
        "                y_pred.append(-1)\n",
        "\n",
        "        y_pred = np.array(y_pred)\n",
        "        mask = (y_pred != -1)\n",
        "        if np.sum(mask) == 0:\n",
        "            continue\n",
        "\n",
        "        f1 = f1_score(y_true[mask], y_pred[mask], average='macro')\n",
        "        if f1 > best_f1:\n",
        "            best_f1 = f1\n",
        "            best_threshold = T\n",
        "\n",
        "    return best_threshold, best_f1\n",
        "\n",
        "# --- Main function: Training + Threshold Tuning + Evaluation ---\n",
        "def run_f1_gpu_with_threshold_tuning_ros(model, X, y, n_splits=5, random_state=42):\n",
        "    X_train, X_test, y_train, y_test = train_test_split(\n",
        "        X, y, test_size=0.2, stratify=y, random_state=random_state\n",
        "    )\n",
        "\n",
        "    skf = StratifiedKFold(n_splits=n_splits, shuffle=True, random_state=random_state)\n",
        "    num_classes = len(np.unique(y))\n",
        "    probs_oof = np.zeros((len(y_train), num_classes))\n",
        "    y_true_oof = np.array(y_train)\n",
        "\n",
        "    for fold, (train_idx, val_idx) in enumerate(skf.split(X_train, y_train)):\n",
        "        X_tr, X_val = X_train[train_idx], X_train[val_idx]\n",
        "        y_tr, y_val = y_train[train_idx], y_train[val_idx]\n",
        "\n",
        "        ros = RandomOverSampler(sampling_strategy=\"not majority\", random_state=random_state)\n",
        "        X_tr_resampled, y_tr_resampled = ros.fit_resample(X_tr, y_tr)\n",
        "\n",
        "        model.fit(X_tr_resampled, y_tr_resampled)\n",
        "        probs_oof[val_idx] = model.predict_proba(X_val)\n",
        "\n",
        "    tuned_threshold, _ = tune_confidence_threshold_multiclass(probs_oof, y_true_oof)\n",
        "\n",
        "    ros = RandomOverSampler(sampling_strategy=\"not majority\", random_state=random_state)\n",
        "    X_train_resampled, y_train_resampled = ros.fit_resample(X_train, y_train)\n",
        "    best_model = model.fit(X_train_resampled, y_train_resampled)\n",
        "\n",
        "    y_test_pred_proba = best_model.predict_proba(X_test)\n",
        "    y_test_pred = [\n",
        "        np.argmax(p) if np.max(p) >= tuned_threshold else -1 for p in y_test_pred_proba\n",
        "    ]\n",
        "    y_test_pred = np.array(y_test_pred)\n",
        "    mask = y_test_pred != -1\n",
        "\n",
        "    report_dict = classification_report(y_test[mask], y_test_pred[mask], output_dict=True)\n",
        "    test_auc = roc_auc_score(y_test[mask], y_test_pred_proba[mask], multi_class=\"ovr\", average=\"macro\")\n",
        "\n",
        "    test_metrics = {\n",
        "        \"roc_auc_macro\": test_auc,\n",
        "        \"accuracy\": accuracy_score(y_test[mask], y_test_pred[mask]),\n",
        "        \"balanced_accuracy\": balanced_accuracy_score(y_test[mask], y_test_pred[mask]),\n",
        "        \"precision_macro\": report_dict[\"macro avg\"][\"precision\"],\n",
        "        \"recall_macro\": report_dict[\"macro avg\"][\"recall\"],\n",
        "        \"f1_macro\": report_dict[\"macro avg\"][\"f1-score\"],\n",
        "        \"precision_weighted\": report_dict[\"weighted avg\"][\"precision\"],\n",
        "        \"recall_weighted\": report_dict[\"weighted avg\"][\"recall\"],\n",
        "        \"f1_weighted\": report_dict[\"weighted avg\"][\"f1-score\"],\n",
        "    }\n",
        "\n",
        "    final_results = {\n",
        "        \"best_model\": best_model,\n",
        "        \"test_set_report\": pd.DataFrame(report_dict).transpose(),\n",
        "        \"test_set_metrics\": test_metrics,\n",
        "        \"best_cv_f1_macro\": f1_score(y_true_oof, np.argmax(probs_oof, axis=1), average=\"macro\"),\n",
        "        \"test_set_roc_auc\": test_auc,\n",
        "        \"tuned_threshold\": tuned_threshold,\n",
        "        \"used_model_params\": model.get_params(),\n",
        "\n",
        "        # Added for ROC plotting\n",
        "        \"y_test\": y_test,\n",
        "        \"y_test_pred_proba\": y_test_pred_proba,\n",
        "    }\n",
        "\n",
        "    return final_results\n"
      ]
    },
    {
      "cell_type": "code",
      "execution_count": null,
      "metadata": {
        "id": "cWvWuS8Q6i8H"
      },
      "outputs": [],
      "source": [
        "from xgboost import XGBClassifier\n",
        "\n",
        "xgb_model = XGBClassifier(\n",
        "    learning_rate=0.3,\n",
        "    max_depth=3,\n",
        "    n_estimators=491,\n",
        "    objective='multi:softprob',\n",
        "    eval_metric='mlogloss',\n",
        "    use_label_encoder=False,\n",
        "    random_state=42\n",
        ")\n",
        "\n"
      ]
    },
    {
      "cell_type": "code",
      "execution_count": null,
      "metadata": {
        "id": "wzqCJLdHCZOK"
      },
      "outputs": [],
      "source": [
        "results_sf_vit = run_f1_gpu_with_threshold_tuning_ros(xgb_model, X=X_combined_vit, y=y)"
      ]
    },
    {
      "cell_type": "code",
      "execution_count": null,
      "metadata": {
        "colab": {
          "base_uri": "https://localhost:8080/"
        },
        "id": "9TkDvrWlKP2C",
        "outputId": "853e5a58-122c-4c60-c14e-2d980a4c9599"
      },
      "outputs": [
        {
          "name": "stdout",
          "output_type": "stream",
          "text": [
            "[✓] Saved results to: /content/drive/MyDrive/w81_fp/results_sf_vit.pkl\n"
          ]
        }
      ],
      "source": [
        "save_results_to_drive(results_sf_vit)\n"
      ]
    },
    {
      "cell_type": "code",
      "execution_count": null,
      "metadata": {
        "colab": {
          "base_uri": "https://localhost:8080/"
        },
        "id": "Ab-hRBEUKQ1e",
        "outputId": "ca1eae49-d8c9-4b8d-dc44-a1e24be9aaea"
      },
      "outputs": [
        {
          "name": "stdout",
          "output_type": "stream",
          "text": [
            "[✓] Loaded results from: /content/drive/MyDrive/w81_fp/results_sf_vit.pkl\n"
          ]
        }
      ],
      "source": [
        "loaded_results_vit = load_results_from_drive()"
      ]
    },
    {
      "cell_type": "code",
      "execution_count": null,
      "metadata": {
        "colab": {
          "base_uri": "https://localhost:8080/",
          "height": 184
        },
        "id": "yRe-gXvKKfaU",
        "outputId": "e39b969f-456c-43d1-86ec-22e1b44d2f28"
      },
      "outputs": [
        {
          "output_type": "error",
          "ename": "NameError",
          "evalue": "name 'run_f1_gpu_with_threshold_tuning_ros' is not defined",
          "traceback": [
            "\u001b[0;31m---------------------------------------------------------------------------\u001b[0m",
            "\u001b[0;31mNameError\u001b[0m                                 Traceback (most recent call last)",
            "\u001b[0;32m/tmp/ipython-input-2700377472.py\u001b[0m in \u001b[0;36m<cell line: 0>\u001b[0;34m()\u001b[0m\n\u001b[0;32m----> 1\u001b[0;31m \u001b[0mresults_sf_resnet\u001b[0m \u001b[0;34m=\u001b[0m \u001b[0mrun_f1_gpu_with_threshold_tuning_ros\u001b[0m\u001b[0;34m(\u001b[0m\u001b[0mxgb_model\u001b[0m\u001b[0;34m,\u001b[0m \u001b[0mX\u001b[0m\u001b[0;34m=\u001b[0m\u001b[0mX_combined_resnet\u001b[0m\u001b[0;34m,\u001b[0m \u001b[0my\u001b[0m\u001b[0;34m=\u001b[0m\u001b[0my\u001b[0m\u001b[0;34m)\u001b[0m\u001b[0;34m\u001b[0m\u001b[0;34m\u001b[0m\u001b[0m\n\u001b[0m\u001b[1;32m      2\u001b[0m \u001b[0;34m\u001b[0m\u001b[0m\n\u001b[1;32m      3\u001b[0m \u001b[0msave_results_to_drive\u001b[0m\u001b[0;34m(\u001b[0m\u001b[0mresults\u001b[0m\u001b[0;34m=\u001b[0m\u001b[0mresults_sf_resnet\u001b[0m\u001b[0;34m,\u001b[0m \u001b[0mfilename\u001b[0m\u001b[0;34m=\u001b[0m\u001b[0;34m\"results_sf_resnet.pkl\"\u001b[0m\u001b[0;34m)\u001b[0m\u001b[0;34m\u001b[0m\u001b[0;34m\u001b[0m\u001b[0m\n\u001b[1;32m      4\u001b[0m \u001b[0mloaded_results_resnet\u001b[0m \u001b[0;34m=\u001b[0m \u001b[0mload_results_from_drive\u001b[0m\u001b[0;34m(\u001b[0m\u001b[0mfilename\u001b[0m\u001b[0;34m=\u001b[0m\u001b[0;34m\"results_sf_resnet.pkl\"\u001b[0m\u001b[0;34m)\u001b[0m\u001b[0;34m\u001b[0m\u001b[0;34m\u001b[0m\u001b[0m\n",
            "\u001b[0;31mNameError\u001b[0m: name 'run_f1_gpu_with_threshold_tuning_ros' is not defined"
          ]
        }
      ],
      "source": [
        "results_sf_resnet = run_f1_gpu_with_threshold_tuning_ros(xgb_model, X=X_combined_resnet, y=y)\n",
        "\n",
        "save_results_to_drive(results=results_sf_resnet, filename=\"results_sf_resnet.pkl\")\n",
        "loaded_results_resnet = load_results_from_drive(filename=\"results_sf_resnet.pkl\")\n"
      ]
    },
    {
      "cell_type": "code",
      "execution_count": null,
      "metadata": {
        "colab": {
          "base_uri": "https://localhost:8080/"
        },
        "id": "a588az1fY3TV",
        "outputId": "52eeb57c-8358-4361-f9a0-e84eb4c23e6a"
      },
      "outputs": [
        {
          "name": "stdout",
          "output_type": "stream",
          "text": [
            "[✓] Saved results to: /content/drive/MyDrive/w81_fp/results_sf_clip.pkl\n",
            "[✓] Loaded results from: /content/drive/MyDrive/w81_fp/results_sf_clip.pkl\n"
          ]
        }
      ],
      "source": [
        "results_sf_clip = run_f1_gpu_with_threshold_tuning_ros(xgb_model, X=X_combined_clip, y=y)\n",
        "\n",
        "save_results_to_drive(results=results_sf_clip, filename=\"results_sf_clip.pkl\")\n",
        "loaded_results_clip = load_results_from_drive(filename=\"results_sf_clip.pkl\")"
      ]
    },
    {
      "cell_type": "code",
      "execution_count": null,
      "metadata": {
        "colab": {
          "base_uri": "https://localhost:8080/",
          "height": 140
        },
        "id": "5qtQU8yClLOm",
        "outputId": "37b3238e-9c10-47e2-837d-d600c261c1a5"
      },
      "outputs": [
        {
          "data": {
            "application/vnd.google.colaboratory.intrinsic+json": {
              "summary": "{\n  \"name\": \"summary_df\",\n  \"rows\": 3,\n  \"fields\": [\n    {\n      \"column\": \"Model\",\n      \"properties\": {\n        \"dtype\": \"string\",\n        \"num_unique_values\": 3,\n        \"samples\": [\n          \"ViT\",\n          \"ResNet\",\n          \"CLIP\"\n        ],\n        \"semantic_type\": \"\",\n        \"description\": \"\"\n      }\n    },\n    {\n      \"column\": \"Best CV F1-Macro\",\n      \"properties\": {\n        \"dtype\": \"number\",\n        \"std\": 0.034536926725388155,\n        \"min\": 0.6176158370672511,\n        \"max\": 0.6820161444164141,\n        \"num_unique_values\": 3,\n        \"samples\": [\n          0.6820161444164141,\n          0.6281861910917088,\n          0.6176158370672511\n        ],\n        \"semantic_type\": \"\",\n        \"description\": \"\"\n      }\n    },\n    {\n      \"column\": \"Test AUC-ROC\",\n      \"properties\": {\n        \"dtype\": \"number\",\n        \"std\": 0.0043740699354173915,\n        \"min\": 0.974642352815619,\n        \"max\": 0.9829855266093713,\n        \"num_unique_values\": 3,\n        \"samples\": [\n          0.9829855266093713,\n          0.974642352815619,\n          0.9765355517549252\n        ],\n        \"semantic_type\": \"\",\n        \"description\": \"\"\n      }\n    },\n    {\n      \"column\": \"Test Accuracy\",\n      \"properties\": {\n        \"dtype\": \"number\",\n        \"std\": 0.008084108360212281,\n        \"min\": 0.9233954451345756,\n        \"max\": 0.93812375249501,\n        \"num_unique_values\": 3,\n        \"samples\": [\n          0.93812375249501,\n          0.9249832551908909,\n          0.9233954451345756\n        ],\n        \"semantic_type\": \"\",\n        \"description\": \"\"\n      }\n    },\n    {\n      \"column\": \"Test F1-Macro\",\n      \"properties\": {\n        \"dtype\": \"number\",\n        \"std\": 0.03821755794013734,\n        \"min\": 0.7847273002229657,\n        \"max\": 0.857186806372251,\n        \"num_unique_values\": 3,\n        \"samples\": [\n          0.857186806372251,\n          0.7998866906720025,\n          0.7847273002229657\n        ],\n        \"semantic_type\": \"\",\n        \"description\": \"\"\n      }\n    }\n  ]\n}",
              "type": "dataframe",
              "variable_name": "summary_df"
            },
            "text/html": [
              "\n",
              "  <div id=\"df-4d9aaf59-11c5-461e-8bf3-fbb5c05bd638\" class=\"colab-df-container\">\n",
              "    <div>\n",
              "<style scoped>\n",
              "    .dataframe tbody tr th:only-of-type {\n",
              "        vertical-align: middle;\n",
              "    }\n",
              "\n",
              "    .dataframe tbody tr th {\n",
              "        vertical-align: top;\n",
              "    }\n",
              "\n",
              "    .dataframe thead th {\n",
              "        text-align: right;\n",
              "    }\n",
              "</style>\n",
              "<table border=\"1\" class=\"dataframe\">\n",
              "  <thead>\n",
              "    <tr style=\"text-align: right;\">\n",
              "      <th></th>\n",
              "      <th>Model</th>\n",
              "      <th>Best CV F1-Macro</th>\n",
              "      <th>Test AUC-ROC</th>\n",
              "      <th>Test Accuracy</th>\n",
              "      <th>Test F1-Macro</th>\n",
              "    </tr>\n",
              "  </thead>\n",
              "  <tbody>\n",
              "    <tr>\n",
              "      <th>0</th>\n",
              "      <td>ViT</td>\n",
              "      <td>0.682016</td>\n",
              "      <td>0.982986</td>\n",
              "      <td>0.938124</td>\n",
              "      <td>0.857187</td>\n",
              "    </tr>\n",
              "    <tr>\n",
              "      <th>1</th>\n",
              "      <td>ResNet</td>\n",
              "      <td>0.628186</td>\n",
              "      <td>0.974642</td>\n",
              "      <td>0.924983</td>\n",
              "      <td>0.799887</td>\n",
              "    </tr>\n",
              "    <tr>\n",
              "      <th>2</th>\n",
              "      <td>CLIP</td>\n",
              "      <td>0.617616</td>\n",
              "      <td>0.976536</td>\n",
              "      <td>0.923395</td>\n",
              "      <td>0.784727</td>\n",
              "    </tr>\n",
              "  </tbody>\n",
              "</table>\n",
              "</div>\n",
              "    <div class=\"colab-df-buttons\">\n",
              "\n",
              "  <div class=\"colab-df-container\">\n",
              "    <button class=\"colab-df-convert\" onclick=\"convertToInteractive('df-4d9aaf59-11c5-461e-8bf3-fbb5c05bd638')\"\n",
              "            title=\"Convert this dataframe to an interactive table.\"\n",
              "            style=\"display:none;\">\n",
              "\n",
              "  <svg xmlns=\"http://www.w3.org/2000/svg\" height=\"24px\" viewBox=\"0 -960 960 960\">\n",
              "    <path d=\"M120-120v-720h720v720H120Zm60-500h600v-160H180v160Zm220 220h160v-160H400v160Zm0 220h160v-160H400v160ZM180-400h160v-160H180v160Zm440 0h160v-160H620v160ZM180-180h160v-160H180v160Zm440 0h160v-160H620v160Z\"/>\n",
              "  </svg>\n",
              "    </button>\n",
              "\n",
              "  <style>\n",
              "    .colab-df-container {\n",
              "      display:flex;\n",
              "      gap: 12px;\n",
              "    }\n",
              "\n",
              "    .colab-df-convert {\n",
              "      background-color: #E8F0FE;\n",
              "      border: none;\n",
              "      border-radius: 50%;\n",
              "      cursor: pointer;\n",
              "      display: none;\n",
              "      fill: #1967D2;\n",
              "      height: 32px;\n",
              "      padding: 0 0 0 0;\n",
              "      width: 32px;\n",
              "    }\n",
              "\n",
              "    .colab-df-convert:hover {\n",
              "      background-color: #E2EBFA;\n",
              "      box-shadow: 0px 1px 2px rgba(60, 64, 67, 0.3), 0px 1px 3px 1px rgba(60, 64, 67, 0.15);\n",
              "      fill: #174EA6;\n",
              "    }\n",
              "\n",
              "    .colab-df-buttons div {\n",
              "      margin-bottom: 4px;\n",
              "    }\n",
              "\n",
              "    [theme=dark] .colab-df-convert {\n",
              "      background-color: #3B4455;\n",
              "      fill: #D2E3FC;\n",
              "    }\n",
              "\n",
              "    [theme=dark] .colab-df-convert:hover {\n",
              "      background-color: #434B5C;\n",
              "      box-shadow: 0px 1px 3px 1px rgba(0, 0, 0, 0.15);\n",
              "      filter: drop-shadow(0px 1px 2px rgba(0, 0, 0, 0.3));\n",
              "      fill: #FFFFFF;\n",
              "    }\n",
              "  </style>\n",
              "\n",
              "    <script>\n",
              "      const buttonEl =\n",
              "        document.querySelector('#df-4d9aaf59-11c5-461e-8bf3-fbb5c05bd638 button.colab-df-convert');\n",
              "      buttonEl.style.display =\n",
              "        google.colab.kernel.accessAllowed ? 'block' : 'none';\n",
              "\n",
              "      async function convertToInteractive(key) {\n",
              "        const element = document.querySelector('#df-4d9aaf59-11c5-461e-8bf3-fbb5c05bd638');\n",
              "        const dataTable =\n",
              "          await google.colab.kernel.invokeFunction('convertToInteractive',\n",
              "                                                    [key], {});\n",
              "        if (!dataTable) return;\n",
              "\n",
              "        const docLinkHtml = 'Like what you see? Visit the ' +\n",
              "          '<a target=\"_blank\" href=https://colab.research.google.com/notebooks/data_table.ipynb>data table notebook</a>'\n",
              "          + ' to learn more about interactive tables.';\n",
              "        element.innerHTML = '';\n",
              "        dataTable['output_type'] = 'display_data';\n",
              "        await google.colab.output.renderOutput(dataTable, element);\n",
              "        const docLink = document.createElement('div');\n",
              "        docLink.innerHTML = docLinkHtml;\n",
              "        element.appendChild(docLink);\n",
              "      }\n",
              "    </script>\n",
              "  </div>\n",
              "\n",
              "\n",
              "    <div id=\"df-575a073a-9e0d-4c75-b599-d20c17269c36\">\n",
              "      <button class=\"colab-df-quickchart\" onclick=\"quickchart('df-575a073a-9e0d-4c75-b599-d20c17269c36')\"\n",
              "                title=\"Suggest charts\"\n",
              "                style=\"display:none;\">\n",
              "\n",
              "<svg xmlns=\"http://www.w3.org/2000/svg\" height=\"24px\"viewBox=\"0 0 24 24\"\n",
              "     width=\"24px\">\n",
              "    <g>\n",
              "        <path d=\"M19 3H5c-1.1 0-2 .9-2 2v14c0 1.1.9 2 2 2h14c1.1 0 2-.9 2-2V5c0-1.1-.9-2-2-2zM9 17H7v-7h2v7zm4 0h-2V7h2v10zm4 0h-2v-4h2v4z\"/>\n",
              "    </g>\n",
              "</svg>\n",
              "      </button>\n",
              "\n",
              "<style>\n",
              "  .colab-df-quickchart {\n",
              "      --bg-color: #E8F0FE;\n",
              "      --fill-color: #1967D2;\n",
              "      --hover-bg-color: #E2EBFA;\n",
              "      --hover-fill-color: #174EA6;\n",
              "      --disabled-fill-color: #AAA;\n",
              "      --disabled-bg-color: #DDD;\n",
              "  }\n",
              "\n",
              "  [theme=dark] .colab-df-quickchart {\n",
              "      --bg-color: #3B4455;\n",
              "      --fill-color: #D2E3FC;\n",
              "      --hover-bg-color: #434B5C;\n",
              "      --hover-fill-color: #FFFFFF;\n",
              "      --disabled-bg-color: #3B4455;\n",
              "      --disabled-fill-color: #666;\n",
              "  }\n",
              "\n",
              "  .colab-df-quickchart {\n",
              "    background-color: var(--bg-color);\n",
              "    border: none;\n",
              "    border-radius: 50%;\n",
              "    cursor: pointer;\n",
              "    display: none;\n",
              "    fill: var(--fill-color);\n",
              "    height: 32px;\n",
              "    padding: 0;\n",
              "    width: 32px;\n",
              "  }\n",
              "\n",
              "  .colab-df-quickchart:hover {\n",
              "    background-color: var(--hover-bg-color);\n",
              "    box-shadow: 0 1px 2px rgba(60, 64, 67, 0.3), 0 1px 3px 1px rgba(60, 64, 67, 0.15);\n",
              "    fill: var(--button-hover-fill-color);\n",
              "  }\n",
              "\n",
              "  .colab-df-quickchart-complete:disabled,\n",
              "  .colab-df-quickchart-complete:disabled:hover {\n",
              "    background-color: var(--disabled-bg-color);\n",
              "    fill: var(--disabled-fill-color);\n",
              "    box-shadow: none;\n",
              "  }\n",
              "\n",
              "  .colab-df-spinner {\n",
              "    border: 2px solid var(--fill-color);\n",
              "    border-color: transparent;\n",
              "    border-bottom-color: var(--fill-color);\n",
              "    animation:\n",
              "      spin 1s steps(1) infinite;\n",
              "  }\n",
              "\n",
              "  @keyframes spin {\n",
              "    0% {\n",
              "      border-color: transparent;\n",
              "      border-bottom-color: var(--fill-color);\n",
              "      border-left-color: var(--fill-color);\n",
              "    }\n",
              "    20% {\n",
              "      border-color: transparent;\n",
              "      border-left-color: var(--fill-color);\n",
              "      border-top-color: var(--fill-color);\n",
              "    }\n",
              "    30% {\n",
              "      border-color: transparent;\n",
              "      border-left-color: var(--fill-color);\n",
              "      border-top-color: var(--fill-color);\n",
              "      border-right-color: var(--fill-color);\n",
              "    }\n",
              "    40% {\n",
              "      border-color: transparent;\n",
              "      border-right-color: var(--fill-color);\n",
              "      border-top-color: var(--fill-color);\n",
              "    }\n",
              "    60% {\n",
              "      border-color: transparent;\n",
              "      border-right-color: var(--fill-color);\n",
              "    }\n",
              "    80% {\n",
              "      border-color: transparent;\n",
              "      border-right-color: var(--fill-color);\n",
              "      border-bottom-color: var(--fill-color);\n",
              "    }\n",
              "    90% {\n",
              "      border-color: transparent;\n",
              "      border-bottom-color: var(--fill-color);\n",
              "    }\n",
              "  }\n",
              "</style>\n",
              "\n",
              "      <script>\n",
              "        async function quickchart(key) {\n",
              "          const quickchartButtonEl =\n",
              "            document.querySelector('#' + key + ' button');\n",
              "          quickchartButtonEl.disabled = true;  // To prevent multiple clicks.\n",
              "          quickchartButtonEl.classList.add('colab-df-spinner');\n",
              "          try {\n",
              "            const charts = await google.colab.kernel.invokeFunction(\n",
              "                'suggestCharts', [key], {});\n",
              "          } catch (error) {\n",
              "            console.error('Error during call to suggestCharts:', error);\n",
              "          }\n",
              "          quickchartButtonEl.classList.remove('colab-df-spinner');\n",
              "          quickchartButtonEl.classList.add('colab-df-quickchart-complete');\n",
              "        }\n",
              "        (() => {\n",
              "          let quickchartButtonEl =\n",
              "            document.querySelector('#df-575a073a-9e0d-4c75-b599-d20c17269c36 button');\n",
              "          quickchartButtonEl.style.display =\n",
              "            google.colab.kernel.accessAllowed ? 'block' : 'none';\n",
              "        })();\n",
              "      </script>\n",
              "    </div>\n",
              "\n",
              "  <div id=\"id_df805840-b504-4cda-b6ce-0f271a0becb4\">\n",
              "    <style>\n",
              "      .colab-df-generate {\n",
              "        background-color: #E8F0FE;\n",
              "        border: none;\n",
              "        border-radius: 50%;\n",
              "        cursor: pointer;\n",
              "        display: none;\n",
              "        fill: #1967D2;\n",
              "        height: 32px;\n",
              "        padding: 0 0 0 0;\n",
              "        width: 32px;\n",
              "      }\n",
              "\n",
              "      .colab-df-generate:hover {\n",
              "        background-color: #E2EBFA;\n",
              "        box-shadow: 0px 1px 2px rgba(60, 64, 67, 0.3), 0px 1px 3px 1px rgba(60, 64, 67, 0.15);\n",
              "        fill: #174EA6;\n",
              "      }\n",
              "\n",
              "      [theme=dark] .colab-df-generate {\n",
              "        background-color: #3B4455;\n",
              "        fill: #D2E3FC;\n",
              "      }\n",
              "\n",
              "      [theme=dark] .colab-df-generate:hover {\n",
              "        background-color: #434B5C;\n",
              "        box-shadow: 0px 1px 3px 1px rgba(0, 0, 0, 0.15);\n",
              "        filter: drop-shadow(0px 1px 2px rgba(0, 0, 0, 0.3));\n",
              "        fill: #FFFFFF;\n",
              "      }\n",
              "    </style>\n",
              "    <button class=\"colab-df-generate\" onclick=\"generateWithVariable('summary_df')\"\n",
              "            title=\"Generate code using this dataframe.\"\n",
              "            style=\"display:none;\">\n",
              "\n",
              "  <svg xmlns=\"http://www.w3.org/2000/svg\" height=\"24px\"viewBox=\"0 0 24 24\"\n",
              "       width=\"24px\">\n",
              "    <path d=\"M7,19H8.4L18.45,9,17,7.55,7,17.6ZM5,21V16.75L18.45,3.32a2,2,0,0,1,2.83,0l1.4,1.43a1.91,1.91,0,0,1,.58,1.4,1.91,1.91,0,0,1-.58,1.4L9.25,21ZM18.45,9,17,7.55Zm-12,3A5.31,5.31,0,0,0,4.9,8.1,5.31,5.31,0,0,0,1,6.5,5.31,5.31,0,0,0,4.9,4.9,5.31,5.31,0,0,0,6.5,1,5.31,5.31,0,0,0,8.1,4.9,5.31,5.31,0,0,0,12,6.5,5.46,5.46,0,0,0,6.5,12Z\"/>\n",
              "  </svg>\n",
              "    </button>\n",
              "    <script>\n",
              "      (() => {\n",
              "      const buttonEl =\n",
              "        document.querySelector('#id_df805840-b504-4cda-b6ce-0f271a0becb4 button.colab-df-generate');\n",
              "      buttonEl.style.display =\n",
              "        google.colab.kernel.accessAllowed ? 'block' : 'none';\n",
              "\n",
              "      buttonEl.onclick = () => {\n",
              "        google.colab.notebook.generateWithVariable('summary_df');\n",
              "      }\n",
              "      })();\n",
              "    </script>\n",
              "  </div>\n",
              "\n",
              "    </div>\n",
              "  </div>\n"
            ],
            "text/plain": [
              "    Model  Best CV F1-Macro  Test AUC-ROC  Test Accuracy  Test F1-Macro\n",
              "0     ViT          0.682016      0.982986       0.938124       0.857187\n",
              "1  ResNet          0.628186      0.974642       0.924983       0.799887\n",
              "2    CLIP          0.617616      0.976536       0.923395       0.784727"
            ]
          },
          "execution_count": 53,
          "metadata": {},
          "output_type": "execute_result"
        }
      ],
      "source": [
        "summary_df = pd.DataFrame([\n",
        "    {\n",
        "        \"Model\": \"ViT\",\n",
        "        \"Best CV F1-Macro\": results_sf_vit[\"best_cv_f1_macro\"],\n",
        "        \"Test AUC-ROC\": results_sf_vit[\"test_set_roc_auc\"],\n",
        "        \"Test Accuracy\": results_sf_vit[\"test_set_metrics\"][\"accuracy\"],\n",
        "        \"Test F1-Macro\": results_sf_vit[\"test_set_metrics\"][\"f1_macro\"],\n",
        "    },\n",
        "    {\n",
        "        \"Model\": \"ResNet\",\n",
        "        \"Best CV F1-Macro\": results_sf_resnet[\"best_cv_f1_macro\"],\n",
        "        \"Test AUC-ROC\": results_sf_resnet[\"test_set_roc_auc\"],\n",
        "        \"Test Accuracy\": results_sf_resnet[\"test_set_metrics\"][\"accuracy\"],\n",
        "        \"Test F1-Macro\": results_sf_resnet[\"test_set_metrics\"][\"f1_macro\"],\n",
        "    },\n",
        "    {\n",
        "        \"Model\": \"CLIP\",\n",
        "        \"Best CV F1-Macro\": results_sf_clip[\"best_cv_f1_macro\"],\n",
        "        \"Test AUC-ROC\": results_sf_clip[\"test_set_roc_auc\"],\n",
        "        \"Test Accuracy\": results_sf_clip[\"test_set_metrics\"][\"accuracy\"],\n",
        "        \"Test F1-Macro\": results_sf_clip[\"test_set_metrics\"][\"f1_macro\"],\n",
        "    }\n",
        "])\n",
        "\n",
        "# Display the summary\n",
        "summary_df"
      ]
    },
    {
      "cell_type": "code",
      "execution_count": null,
      "metadata": {
        "colab": {
          "base_uri": "https://localhost:8080/",
          "height": 807
        },
        "id": "FmNkdyy5mrzw",
        "outputId": "563250cb-21c3-46a9-c4cb-5274098413c3"
      },
      "outputs": [
        {
          "data": {
            "image/png": "[encoded data removed]",
            "text/plain": [
              "<Figure size 1000x800 with 1 Axes>"
            ]
          },
          "metadata": {},
          "output_type": "display_data"
        }
      ],
      "source": [
        "import numpy as np\n",
        "import matplotlib.pyplot as plt\n",
        "from sklearn.preprocessing import label_binarize\n",
        "from sklearn.metrics import roc_curve, auc\n",
        "\n",
        "# --- Step 1: Collect results from all models ---\n",
        "all_results = {\n",
        "    \"ViT\": results_sf_vit,\n",
        "    \"ResNet\": results_sf_resnet,\n",
        "    \"CLIP\": results_sf_clip,\n",
        "}\n",
        "\n",
        "# --- Step 2: Setup ---\n",
        "n_classes = len(np.unique(results_sf_vit[\"y_test\"]))\n",
        "colors = {\n",
        "    \"ViT\": \"blue\",\n",
        "    \"ResNet\": \"green\",\n",
        "    \"CLIP\": \"red\",\n",
        "}\n",
        "\n",
        "plt.figure(figsize=(10, 8))\n",
        "\n",
        "# --- Step 3: Compute ROC Curve for each model ---\n",
        "for name, result in all_results.items():\n",
        "    y_true = result[\"y_test\"]\n",
        "    y_score = result[\"y_test_pred_proba\"]\n",
        "\n",
        "    # Binarize y for multiclass OvR ROC\n",
        "    y_bin = label_binarize(y_true, classes=np.arange(n_classes))\n",
        "\n",
        "    # Compute per-class ROC and average\n",
        "    fpr, tpr, roc_auc = dict(), dict(), dict()\n",
        "    for i in range(n_classes):\n",
        "        fpr[i], tpr[i], _ = roc_curve(y_bin[:, i], y_score[:, i])\n",
        "        roc_auc[i] = auc(fpr[i], tpr[i])\n",
        "\n",
        "    # Compute macro-average\n",
        "    all_fpr = np.unique(np.concatenate([fpr[i] for i in range(n_classes)]))\n",
        "    mean_tpr = np.zeros_like(all_fpr)\n",
        "    for i in range(n_classes):\n",
        "        mean_tpr += np.interp(all_fpr, fpr[i], tpr[i])\n",
        "    mean_tpr /= n_classes\n",
        "    macro_auc = auc(all_fpr, mean_tpr)\n",
        "\n",
        "    # Plot\n",
        "    plt.plot(all_fpr, mean_tpr, label=f\"{name} (AUC = {macro_auc:.2f})\", linewidth=2, color=colors[name])\n",
        "\n",
        "# --- Step 4: Formatting ---\n",
        "plt.plot([0, 1], [0, 1], \"k--\", linewidth=1)\n",
        "plt.xlabel(\"False Positive Rate\", fontsize=12)\n",
        "plt.ylabel(\"True Positive Rate\", fontsize=12)\n",
        "plt.title(\"Macro-Averaged ROC Curve (OvR) for ViT, ResNet, CLIP\", fontsize=14)\n",
        "plt.legend(loc=\"lower right\")\n",
        "plt.grid(True)\n",
        "plt.tight_layout()\n",
        "plt.show()\n"
      ]
    },
    {
      "cell_type": "markdown",
      "source": [
        "# Run classification report and class based performanc on Vit\n",
        "\n",
        "\n",
        "\n",
        "*   Load saved ViT Model and results\n",
        "*   Executed desired reports and tables\n",
        "\n"
      ],
      "metadata": {
        "id": "xLMIJfh-g_1-"
      }
    },
    {
      "cell_type": "code",
      "source": [
        "import pickle\n",
        "from pathlib import Path\n",
        "\n",
        "def load_results_from_drive(filename=\"results_sf_vit.pkl\", folder=\"/content/drive/MyDrive/w81_fp\"):\n",
        "    \"\"\"\n",
        "    Loads the saved .pkl results file from Google Drive.\n",
        "    \"\"\"\n",
        "    path = Path(folder) / filename\n",
        "    with open(path, \"rb\") as f:\n",
        "        results = pickle.load(f)\n",
        "    print(f\"[✓] Loaded results from: {path}\")\n",
        "    return results"
      ],
      "metadata": {
        "id": "eNG49oHcivTE"
      },
      "execution_count": null,
      "outputs": []
    },
    {
      "cell_type": "code",
      "source": [
        "from google.colab import drive\n",
        "drive.mount('/content/drive')\n"
      ],
      "metadata": {
        "colab": {
          "base_uri": "https://localhost:8080/"
        },
        "id": "xG1-pueViUNe",
        "outputId": "3b61e013-2a5c-40ac-8c9b-14ced479996d"
      },
      "execution_count": null,
      "outputs": [
        {
          "output_type": "stream",
          "name": "stdout",
          "text": [
            "Mounted at /content/drive\n"
          ]
        }
      ]
    },
    {
      "cell_type": "code",
      "source": [
        "results_sf_vit = load_results_from_drive(filename=\"results_sf_vit.pkl\")\n"
      ],
      "metadata": {
        "colab": {
          "base_uri": "https://localhost:8080/"
        },
        "id": "9plVq5ZAg8NM",
        "outputId": "7039d74b-0bf6-41c1-f0e4-4280009c11ca"
      },
      "execution_count": null,
      "outputs": [
        {
          "output_type": "stream",
          "name": "stdout",
          "text": [
            "[✓] Loaded results from: /content/drive/MyDrive/w81_fp/results_sf_vit.pkl\n"
          ]
        }
      ]
    },
    {
      "cell_type": "code",
      "source": [
        "import numpy as np\n",
        "import matplotlib.pyplot as plt\n",
        "import seaborn as sns\n",
        "from sklearn.metrics import confusion_matrix\n",
        "from pathlib import Path\n",
        "import pickle\n",
        "\n",
        "df_report_vit = results_sf_vit[\"test_set_report\"]\n",
        "y_test = results_sf_vit[\"y_test\"]\n",
        "y_pred_proba = results_sf_vit[\"y_test_pred_proba\"]\n",
        "threshold = results_sf_vit[\"tuned_threshold\"]\n",
        "\n",
        "# --- Convert probabilities to predictions using tuned threshold ---\n",
        "y_pred = np.array([\n",
        "    np.argmax(p) if np.max(p) >= threshold else -1\n",
        "    for p in y_pred_proba\n",
        "])\n",
        "\n",
        "# --- Mask to exclude uncertain predictions (rejected by threshold) ---\n",
        "mask = y_pred != -1\n",
        "y_test_masked = y_test[mask]\n",
        "y_pred_masked = y_pred[mask]\n",
        "\n",
        "# --- Compute confusion matrix ---\n",
        "cm = confusion_matrix(y_test_masked, y_pred_masked)\n",
        "\n",
        "# --- Class names for HAM10000 (adjust to your label order) ---\n",
        "ham10000_class_names = [\"akiec\", \"bcc\", \"bkl\", \"df\", \"mel\", \"nv\", \"vasc\"]\n",
        "\n",
        "# --- Plot heatmap ---\n",
        "plt.figure(figsize=(8, 6))\n",
        "sns.heatmap(cm, annot=True, fmt=\"d\", cmap=\"Blues\", xticklabels=ham10000_class_names, yticklabels=ham10000_class_names)\n",
        "plt.title(\"Confusion Matrix — ViT (Thresholded Predictions)\", fontsize=14)\n",
        "plt.xlabel(\"Predicted Label\")\n",
        "plt.ylabel(\"True Label\")\n",
        "plt.tight_layout()\n",
        "plt.show()\n"
      ],
      "metadata": {
        "colab": {
          "base_uri": "https://localhost:8080/",
          "height": 607
        },
        "id": "BekGklvfiL63",
        "outputId": "a4c16516-c3aa-4751-95b8-537fb3b9277b"
      },
      "execution_count": null,
      "outputs": [
        {
          "output_type": "display_data",
          "data": {
            "text/plain": [
              "<Figure size 800x600 with 2 Axes>"
            ],
            "image/png": "[encoded data removed]"
          },
          "metadata": {}
        }
      ]
    },
    {
      "cell_type": "code",
      "source": [
        "# --- Per-class metrics from saved classification report ---\n",
        "df_report = results_sf_vit[\"test_set_report\"]\n",
        "\n",
        "# --- HAM10000 class names in same order as label encoding (adjust if needed) ---\n",
        "ham10000_class_names = [\"akiec\", \"bcc\", \"bkl\", \"df\", \"mel\", \"nv\", \"vasc\"]\n",
        "index_map = {str(i): name for i, name in enumerate(ham10000_class_names)}\n",
        "\n",
        "# --- Rename integer string indices to class names ---\n",
        "df_report_named = df_report.rename(index=index_map)\n",
        "\n",
        "# --- Extract precision, recall, f1-score, and support ---\n",
        "df_per_class = df_report_named.loc[ham10000_class_names, [\"precision\", \"recall\", \"f1-score\", \"support\"]]\n",
        "df_per_class[[\"precision\", \"recall\", \"f1-score\"]] = df_per_class[[\"precision\", \"recall\", \"f1-score\"]].round(4)\n",
        "df_per_class[\"support\"] = df_per_class[\"support\"].astype(int)\n",
        "\n",
        "# --- Display ---\n",
        "print(\"Per-Class Metrics with Support:\")\n",
        "print(df_per_class)\n"
      ],
      "metadata": {
        "colab": {
          "base_uri": "https://localhost:8080/"
        },
        "id": "gKzE1fRNnZ_l",
        "outputId": "1b740fb9-7d2e-490b-94d2-90354f97ec55"
      },
      "execution_count": null,
      "outputs": [
        {
          "output_type": "stream",
          "name": "stdout",
          "text": [
            "Per-Class Metrics with Support:\n",
            "       precision  recall  f1-score  support\n",
            "akiec     0.7667  0.8214    0.7931       28\n",
            "bcc       0.9130  0.7925    0.8485       53\n",
            "bkl       0.8151  0.7886    0.8017      123\n",
            "df        1.0000  0.8000    0.8889       10\n",
            "mel       0.8370  0.6875    0.7549      112\n",
            "nv        0.9623  0.9897    0.9758     1160\n",
            "vasc      1.0000  0.8824    0.9375       17\n"
          ]
        }
      ]
    }
  ],
  "metadata": {
    "accelerator": "GPU",
    "colab": {
      "gpuType": "L4",
      "machine_shape": "hm",
      "provenance": []
    },
    "kernelspec": {
      "display_name": "Python 3",
      "name": "python3"
    },
    "language_info": {
      "name": "python"
    }
  },
  "nbformat": 4,
  "nbformat_minor": 0
}